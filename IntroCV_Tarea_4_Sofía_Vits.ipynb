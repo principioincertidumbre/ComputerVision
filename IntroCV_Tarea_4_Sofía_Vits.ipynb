{
  "cells": [
    {
      "cell_type": "markdown",
      "metadata": {
        "id": "view-in-github",
        "colab_type": "text"
      },
      "source": [
        "<a href=\"https://colab.research.google.com/github/principioincertidumbre/ComputerVision/blob/main/IntroCV_Tarea_4_Sof%C3%ADa_Vits.ipynb\" target=\"_parent\"><img src=\"https://colab.research.google.com/assets/colab-badge.svg\" alt=\"Open In Colab\"/></a>"
      ]
    },
    {
      "cell_type": "markdown",
      "metadata": {
        "id": "EqvGTH4s9O3b"
      },
      "source": [
        "<center>\n",
        "    <h1>Introducción a la Visión Computacional</h1>\n",
        "    <h1>Tarea 4</h1>\n",
        "</center>\n",
        "\n",
        "### Magíster en Data Science\n",
        "### U. del Desarrollo\n",
        "\n",
        "-----------------------\n",
        "<div align=\"right\">\n",
        "Fecha de Entrega: Domingo 25, Mayo 2025.\n",
        "</div>"
      ]
    },
    {
      "cell_type": "markdown",
      "metadata": {
        "id": "tCLDw5xi9O3e"
      },
      "source": [
        "1. Proponer mejoras al sistema diseñado e implementado originalmete.\n",
        "\n",
        "2. Volver a investigar, aplicar y/o ajustar un algoritmo diferente al algoritmo utilizado trabajado en la Tarea 2, o bien una extensión de éste.\n",
        "\n",
        "3. Implementar métricas de comparación, por ejemplo precisión o una matriz de confusión, junto con otros indicadores tales como tiempos de ejecución de el procesamiento del dataset. La comparación debiera ser con el algoritmo de la Tarea 2. Si resultó que no fue satisfactorio en esta Tarea 2, implementar más de 1 algoritmo o procedimiento para esta Tarea, de manera de poder realizar la comparación mencionada.\n",
        "\n",
        "4. Escribir un informe o entregar el notebook con comentarios y documentación, incluyendo el análisis (comentando) de la comparación con los resultados de la Tarea 2. Notar que pudiera ser que el resultado es inferior al de la Tarea 2, lo importante es el comentario o discusión del por qué se mejoró o empeoraron los nuevos resultados.\n",
        "\n",
        "Tan o más importante que los resultados propiamente tales es la discusión y comentarios acerca de la implementación y los resultados. Como siempre, apoyarse en tablas, gráficos e imágenes.\n"
      ]
    },
    {
      "cell_type": "markdown",
      "source": [
        "# Introducción\n",
        "\n",
        "La clasificación de imágenes es un método utilizado para categorizar automáticamente datos visuales según sus características. Por ejemplo, permite diferenciar entre fotografías de tejidos sanos y enfermos de distintos seres vivos. En el caso de este trabajo esta metodología permite distinguir entre papas sanas e infectadas por bacterias y hongos, lo cual tiene una importancia económica y de seguridad alimentaria debido a la relevancia del cultivo de la papa para la alimentación humana.\n",
        "\n",
        "Previamente se pre-procesó el dataset \"Potato Diseases Datasets\" aplicando desenfoque Gaussiano, detección de bordes mediante la aplicación del filtro Sobel, aclarado de las imágenes mediante filtro Máximo, y oscurecimiento de imágenes al aplicar el filtro Mínimo.\n",
        "\n",
        "Este dataset contiene 451 imágenes de papas clasificadas como infectadas por common scab, blackleg, dry rot, pink rot, y black scurf, papas sanas, y papas afectadas por otros tipos de infecciones.\n",
        "\n",
        "Considerando las enfermedades más comunes de la papa en Chile, se consideraron las clases common scab, blackleg, dry rot y papas sanas para realizar una clasificación multiclase mediante la aplicación del algoritmo . Esta muestra del dataset contiene 262 imágenes en total.\n",
        "\n",
        "Finalmente, se determinó el algoritmo más adecuado para la clasificación de la muestra del dataset de papas.\n",
        "\n",
        "Fuente del dataset utilizado:\n",
        "\n",
        "https://www.kaggle.com/datasets/mukaffimoin/potato-diseases-datasets/\n",
        "\n",
        "F. T. J. Faria, M. Bin Moin, A. Al Wase, M. R. Sani, K. M. Hasib and M. S. Alam, \"Classification of Potato Disease with Digital Image Processing Technique: A Hybrid Deep Learning Framework,\" 2023 IEEE 13th Annual Computing and Communication Workshop and Conference (CCWC), Las Vegas, NV, USA, 2023, pp. 0820-0826, doi: 10.1109/CCWC57344.2023.10099162."
      ],
      "metadata": {
        "id": "i1eAQmhn9a9k"
      }
    },
    {
      "cell_type": "markdown",
      "source": [
        "# Metodología\n",
        "\n",
        "1.- Cargar la muestra del dataset y ordenar las carpetas a utilizar para el algoritmo de clasificación  multiclase.\n",
        "\n",
        "2.- Implementar un algoritmo de clasificación, midiendo el tiempo mínimo, tiempo máximo, tiempo promedio y desviación estándard del tiempo de procesamiento.\n",
        "\n",
        "3.- Comparar los resultados del algoritmo con los resultados obtenidos al utilizar el algoritmo SVM mediante métricas para verificar qué tipo de preprocesamiento permite obtener los mejores resultados.\n"
      ],
      "metadata": {
        "id": "VropVa0M9-eM"
      }
    },
    {
      "cell_type": "markdown",
      "source": [
        "# Desarrollo"
      ],
      "metadata": {
        "id": "IHYXrIbd-Rtr"
      }
    },
    {
      "cell_type": "markdown",
      "source": [
        "## Carga de librerías y definición de rutas de las carpetas que contienen las imágenes de la muestra del dataset de papas"
      ],
      "metadata": {
        "id": "gCtT3yvi-XwM"
      }
    },
    {
      "cell_type": "code",
      "source": [
        "from PIL import Image\n",
        "from PIL import ImageDraw\n",
        "from os.path import exists\n",
        "import os\n",
        "import numpy as np\n",
        "import matplotlib.pyplot as plt\n",
        "from sklearn import svm\n",
        "from skimage.transform import resize\n",
        "from skimage.io import imread\n",
        "from sklearn.model_selection import train_test_split\n",
        "from sklearn.metrics import classification_report,accuracy_score,confusion_matrix\n",
        "from sklearn.metrics import confusion_matrix, ConfusionMatrixDisplay\n",
        "from sklearn.metrics import accuracy_score,precision_score,recall_score,f1_score\n",
        "import pandas as pd\n",
        "import time\n",
        "import seaborn as sns"
      ],
      "metadata": {
        "id": "ajRxwORt-RYD"
      },
      "execution_count": null,
      "outputs": []
    },
    {
      "cell_type": "code",
      "source": [
        "from google.colab import drive\n",
        "drive.mount('/content/drive')"
      ],
      "metadata": {
        "id": "3-Jyxyup-fXz"
      },
      "execution_count": null,
      "outputs": []
    },
    {
      "cell_type": "code",
      "source": [
        "# Abrir una imagen de cada carpeta que contiene imágenes de papas enfermas o sanas\n",
        "\n",
        "inPath1  = '/content/drive/MyDrive/potato/data/common_scab'\n",
        "inPath2  = '/content/drive/MyDrive/potato/data/blackleg'\n",
        "inPath3  = '/content/drive/MyDrive/potato/data/dry_rot'\n",
        "inPath4 = '/content/drive/MyDrive/potato/data/healthy_potato'\n",
        "inPath5 = '/content/drive/MyDrive/potato/data_g/common_scab'\n",
        "inPath6 = '/content/drive/MyDrive/potato/data_g/blackleg'\n",
        "inPath7 = '/content/drive/MyDrive/potato/data_g/dry_rot'\n",
        "inPath8 = '/content/drive/MyDrive/potato/data_g/healthy_potato'\n",
        "inPath9 = '/content/drive/MyDrive/potato/data_s/common_scab'\n",
        "inPath10 = '/content/drive/MyDrive/potato/data_s/blackleg'\n",
        "inPath11 = '/content/drive/MyDrive/potato/data_s/dry_rot'\n",
        "inPath12 = '/content/drive/MyDrive/potato/data_s/healthy_potato'\n",
        "inPath13 = '/content/drive/MyDrive/potato/data_max/common_scab'\n",
        "inPath14 = '/content/drive/MyDrive/potato/data_max/blackleg'\n",
        "inPath15 = '/content/drive/MyDrive/potato/data_max/dry_rot'\n",
        "inPath16 = '/content/drive/MyDrive/potato/data_max/healthy_potato'\n",
        "inPath17 = '/content/drive/MyDrive/potato/data_min/common_scab'\n",
        "inPath18 = '/content/drive/MyDrive/potato/data_min/blackleg'\n",
        "inPath19 = '/content/drive/MyDrive/potato/data_min/dry_rot'\n",
        "inPath20 = '/content/drive/MyDrive/potato/data_min/healthy_potato'"
      ],
      "metadata": {
        "id": "ZyKc9fXs-nuk"
      },
      "execution_count": null,
      "outputs": []
    },
    {
      "cell_type": "markdown",
      "source": [
        "## Resultado del pre-procesamiento del dataset de papas\n",
        "\n",
        "En esta sección se muestran ejemplos de papas sanas e infectadas por blackleg, common scab, y dry rot. En todos los casos se comparan imágenes sin filtrar con fotografías a las cuales se les aplicó desenfoque Gaussiano, detección de bordes mediante un filtro Sobel, y filtros Máximo y Mínimo."
      ],
      "metadata": {
        "id": "S_2i4FFW_UKV"
      }
    },
    {
      "cell_type": "code",
      "source": [
        "def image_grid(imgs, rows, cols):\n",
        "    assert len(imgs) == rows*cols\n",
        "\n",
        "    w, h = imgs[0].size\n",
        "    grid = Image.new('RGB', size=(cols*w, rows*h))\n",
        "    grid_w, grid_h = grid.size\n",
        "\n",
        "\n",
        "    for i, img in enumerate(imgs):\n",
        "        grid.paste(img, box=(i%cols*w, i//cols*h))\n",
        "    return grid"
      ],
      "metadata": {
        "id": "6H-WN_OQ_HHE"
      },
      "execution_count": null,
      "outputs": []
    },
    {
      "cell_type": "code",
      "source": [
        "# Compara papa afectada por blackleg antes y después de aplicar desenfoque Gaussiano, filtros Sobel, Máximo y Mínimo\n",
        "\n",
        "# Original\n",
        "pil_im = Image.open('{}/5.jpg'.format(inPath2))\n",
        "\n",
        "from PIL import ImageDraw\n",
        "ImageDraw.Draw(pil_im).text((0, 0),'Blackleg', (0, 0, 0))\n",
        "\n",
        "display(pil_im)\n",
        "\n",
        "# Desenfoque Gaussiano\n",
        "pil_im_g = Image.open('{}/5.jpg'.format(inPath6)).convert('RGB')\n",
        "ImageDraw.Draw(pil_im_g).text((0, 0),'Blackleg Gaussian', (0, 0, 0))\n",
        "\n",
        "# Sobel\n",
        "pil_im_s = Image.open('{}/5.jpg'.format(inPath10)).convert('RGB')\n",
        "ImageDraw.Draw(pil_im_s).text((0, 0),'Blackleg Sobel', (255, 255, 255))\n",
        "\n",
        "# Máximo\n",
        "pil_im_m = Image.open('{}/5.jpg'.format(inPath14)).convert('RGB')\n",
        "ImageDraw.Draw(pil_im_m).text((0, 0),'Blackleg Maximum', (0, 0, 0))\n",
        "\n",
        "# Mínimo\n",
        "pil_im_mi = Image.open('{}/5.jpg'.format(inPath18)).convert('RGB')\n",
        "ImageDraw.Draw(pil_im_mi).text((0, 0),'Blackleg Minimum', (0, 0, 0))\n",
        "\n",
        "imgs = [pil_im_g, pil_im_s, pil_im_m, pil_im_mi]\n",
        "\n",
        "grid = image_grid(imgs, rows=2, cols=2,)\n",
        "\n",
        "display(grid)"
      ],
      "metadata": {
        "id": "z6xsFM5-_Zv-"
      },
      "execution_count": null,
      "outputs": []
    },
    {
      "cell_type": "code",
      "source": [
        "# Compara papa afectada por blackleg antes y después de aplicar desenfoque Gaussiano, filtros Sobel, Máximo y Mínimo\n",
        "\n",
        "# Original\n",
        "pil_im2 = Image.open('{}/50.jpg'.format(inPath2))\n",
        "ImageDraw.Draw(pil_im2).text((0, 0),'Blackleg', (255, 255, 255))\n",
        "display(pil_im2)\n",
        "\n",
        "# Desenfoque Gaussiano\n",
        "pil_im_g2 = Image.open('{}/50.jpg'.format(inPath6)).convert('RGB')\n",
        "ImageDraw.Draw(pil_im_g2).text((0, 0),'Blackleg Gaussian', (255, 255, 255))\n",
        "\n",
        "# Sobel\n",
        "pil_im_s2 = Image.open('{}/50.jpg'.format(inPath10)).convert('RGB')\n",
        "ImageDraw.Draw(pil_im_s2).text((0, 0),'Blackleg Sobel', (255, 255, 255))\n",
        "\n",
        "# Máximo\n",
        "pil_im_m2 = Image.open('{}/50.jpg'.format(inPath14)).convert('RGB')\n",
        "ImageDraw.Draw(pil_im_m2).text((0, 0),'Blackleg Maximum', (255, 255, 255))\n",
        "\n",
        "# Mínimo\n",
        "pil_im_mi2 = Image.open('{}/50.jpg'.format(inPath18)).convert('RGB')\n",
        "ImageDraw.Draw(pil_im_mi2).text((0, 0),'Blackleg Minimum', (255, 255, 255))\n",
        "\n",
        "imgs = [pil_im_g2, pil_im_s2, pil_im_m2, pil_im_mi2]\n",
        "\n",
        "grid = image_grid(imgs, rows=2, cols=2)\n",
        "\n",
        "display(grid)"
      ],
      "metadata": {
        "id": "JfWZCBTg_dYC"
      },
      "execution_count": null,
      "outputs": []
    },
    {
      "cell_type": "code",
      "source": [
        "# Compara papa afectada por common scab antes y después de aplicar desenfoque Gaussiano, filtros Sobel, Máximo y Mínimo\n",
        "\n",
        "# Original\n",
        "pil_im3 = Image.open('{}/1.jpg'.format(inPath1))\n",
        "ImageDraw.Draw(pil_im3).text((0, 0),'Common scab', (0, 0, 0))\n",
        "display(pil_im3)\n",
        "\n",
        "# Desenfoque Gaussiano\n",
        "pil_im_g3 = Image.open('{}/1.jpg'.format(inPath5)).convert('RGB')\n",
        "ImageDraw.Draw(pil_im_g3).text((0, 0),'C. scab Gaussian', (0, 0, 0))\n",
        "\n",
        "# Sobel\n",
        "pil_im_s3 = Image.open('{}/1.jpg'.format(inPath9)).convert('RGB')\n",
        "ImageDraw.Draw(pil_im_s3).text((0, 0),'C. scab Sobel', (255, 255, 255))\n",
        "\n",
        "# Máximo\n",
        "pil_im_m3 = Image.open('{}/1.jpg'.format(inPath13)).convert('RGB')\n",
        "ImageDraw.Draw(pil_im_m3).text((0, 0),'C. scab Maximum', (0, 0, 0))\n",
        "\n",
        "# Mínimo\n",
        "pil_im_mi3 = Image.open('{}/1.jpg'.format(inPath17)).convert('RGB')\n",
        "ImageDraw.Draw(pil_im_mi3).text((0, 0),'C. scab Minimum', (0, 0, 0))\n",
        "\n",
        "imgs = [pil_im_g3, pil_im_s3, pil_im_m3, pil_im_mi3]\n",
        "\n",
        "grid = image_grid(imgs, rows=2, cols=2)\n",
        "\n",
        "display(grid)"
      ],
      "metadata": {
        "id": "LpmFQVgS_i29"
      },
      "execution_count": null,
      "outputs": []
    },
    {
      "cell_type": "code",
      "source": [
        "# Compara papa afectada por common scab antes y después de aplicar desenfoque Gaussiano, filtros Sobel, Máximo y Mínimo\n",
        "\n",
        "# Original\n",
        "pil_im4 = Image.open('{}/30.jpg'.format(inPath1))\n",
        "ImageDraw.Draw(pil_im4).text((0, 0),'Common scab', (0, 0, 0))\n",
        "display(pil_im4)\n",
        "\n",
        "# Desenfoque Gaussiano\n",
        "pil_im_g4 = Image.open('{}/30.jpg'.format(inPath5)).convert('RGB')\n",
        "ImageDraw.Draw(pil_im_g4).text((0, 0),'C. scab Gaussian', (0, 0, 0))\n",
        "\n",
        "# Sobel\n",
        "pil_im_s4 = Image.open('{}/30.jpg'.format(inPath9)).convert('RGB')\n",
        "ImageDraw.Draw(pil_im_s4).text((0, 0),'C. scab Sobel', (255, 255, 255))\n",
        "\n",
        "# Máximo\n",
        "pil_im_m4 = Image.open('{}/30.jpg'.format(inPath13)).convert('RGB')\n",
        "ImageDraw.Draw(pil_im_m4).text((0, 0),'C. scab Maximum', (0, 0, 0))\n",
        "\n",
        "# Mínimo\n",
        "pil_im_mi4 = Image.open('{}/30.jpg'.format(inPath17)).convert('RGB')\n",
        "ImageDraw.Draw(pil_im_mi4).text((0, 0),'C. scab Minimum', (0, 0, 0))\n",
        "\n",
        "imgs = [pil_im_g4, pil_im_s4, pil_im_m4, pil_im_mi4]\n",
        "\n",
        "grid = image_grid(imgs, rows=2, cols=2)\n",
        "\n",
        "display(grid)"
      ],
      "metadata": {
        "id": "aHU5QXSq_nUk"
      },
      "execution_count": null,
      "outputs": []
    },
    {
      "cell_type": "code",
      "source": [
        "# Compara papa afectada por dry rot antes y después de aplicar desenfoque Gaussiano, filtros Sobel, Máximo y Mínimo\n",
        "\n",
        "# Original\n",
        "pil_im5 = Image.open('{}/31.jpg'.format(inPath3))\n",
        "ImageDraw.Draw(pil_im5).text((0, 0),'Dry rot', (255, 255, 255))\n",
        "display(pil_im5)\n",
        "\n",
        "# Desenfoque Gaussiano\n",
        "pil_im_g5 = Image.open('{}/31.jpg'.format(inPath7)).convert('RGB')\n",
        "ImageDraw.Draw(pil_im_g5).text((0, 0),'D. rot Gaussian', (255, 255, 255))\n",
        "\n",
        "# Sobel\n",
        "pil_im_s5 = Image.open('{}/31.jpg'.format(inPath11)).convert('RGB')\n",
        "ImageDraw.Draw(pil_im_s5).text((0, 0),'D. rot Sobel', (255, 255, 255))\n",
        "\n",
        "# Máximo\n",
        "pil_im_m5 = Image.open('{}/31.jpg'.format(inPath15)).convert('RGB')\n",
        "ImageDraw.Draw(pil_im_m5).text((0, 0),'D. rot Maximum', (255, 255, 255))\n",
        "\n",
        "# Mínimo\n",
        "pil_im_mi5 = Image.open('{}/31.jpg'.format(inPath19)).convert('RGB')\n",
        "ImageDraw.Draw(pil_im_mi5).text((0, 0),'D. rot Minimum', (255, 255, 255))\n",
        "\n",
        "imgs = [pil_im_g5, pil_im_s5, pil_im_m5, pil_im_mi5]\n",
        "\n",
        "grid = image_grid(imgs, rows=2, cols=2)\n",
        "\n",
        "display(grid)"
      ],
      "metadata": {
        "id": "qOtf0Dta_rB9"
      },
      "execution_count": null,
      "outputs": []
    },
    {
      "cell_type": "code",
      "source": [
        "# Compara papa afectada por dry rot antes y después de aplicar desenfoque Gaussiano, filtros Sobel, Máximo y Mínimo\n",
        "\n",
        "# Original\n",
        "pil_im6 = Image.open('{}/55.jpg'.format(inPath3)).convert('RGB')\n",
        "ImageDraw.Draw(pil_im6).text((0, 0),'Dry rot', (0, 0, 0))\n",
        "display(pil_im6)\n",
        "\n",
        "# Desenfoque Gaussiano\n",
        "pil_im_g6 = Image.open('{}/55.jpg'.format(inPath7)).convert('RGB')\n",
        "ImageDraw.Draw(pil_im_g6).text((0, 0),'D. rot Gaussian', (0, 0, 0))\n",
        "\n",
        "# Sobel\n",
        "pil_im_s6 = Image.open('{}/55.jpg'.format(inPath11)).convert('RGB')\n",
        "ImageDraw.Draw(pil_im_s6).text((0, 0),'D. rot Sobel', (255, 255, 255))\n",
        "\n",
        "# Máximo\n",
        "pil_im_m6 = Image.open('{}/55.jpg'.format(inPath15)).convert('RGB')\n",
        "ImageDraw.Draw(pil_im_m6).text((0, 0),'D. rot Maximum', (0, 0, 0))\n",
        "\n",
        "# Mínimo\n",
        "pil_im_mi6 = Image.open('{}/55.jpg'.format(inPath19)).convert('RGB')\n",
        "ImageDraw.Draw(pil_im_mi6).text((0, 0),'D. rot Minimum', (0, 0, 0))\n",
        "\n",
        "imgs = [pil_im_g6, pil_im_s6, pil_im_m6, pil_im_mi6]\n",
        "\n",
        "grid = image_grid(imgs, rows=2, cols=2)\n",
        "\n",
        "display(grid)"
      ],
      "metadata": {
        "id": "aQxjkyuN_u80"
      },
      "execution_count": null,
      "outputs": []
    },
    {
      "cell_type": "code",
      "source": [
        "# Compara papa sana antes y después de aplicar desenfoque Gaussiano, filtros Sobel, Máximo y Mínimo\n",
        "\n",
        "# Original\n",
        "pil_im7 = Image.open('{}/55.jpg'.format(inPath4))\n",
        "ImageDraw.Draw(pil_im7).text((0, 0),'Healthy', (0, 0, 0))\n",
        "display(pil_im7)\n",
        "\n",
        "# Desenfoque Gaussiano\n",
        "pil_im_g7 = Image.open('{}/55.jpg'.format(inPath8)).convert('RGB')\n",
        "ImageDraw.Draw(pil_im_g7).text((0, 0),'Healthy Gaussian', (0, 0, 0))\n",
        "\n",
        "# Sobel\n",
        "pil_im_s7 = Image.open('{}/55.jpg'.format(inPath12)).convert('RGB')\n",
        "ImageDraw.Draw(pil_im_s7).text((0, 0),'Healthy Sobel', (255, 255, 255))\n",
        "\n",
        "# Máximo\n",
        "pil_im_m7 = Image.open('{}/55.jpg'.format(inPath16)).convert('RGB')\n",
        "ImageDraw.Draw(pil_im_m7).text((0, 0),'Healthy Maximum', (0, 0, 0))\n",
        "\n",
        "# Mínimo\n",
        "pil_im_mi7 = Image.open('{}/55.jpg'.format(inPath20)).convert('RGB')\n",
        "ImageDraw.Draw(pil_im_mi7).text((0, 0),'Healthy Minimum', (0, 0, 0))\n",
        "\n",
        "imgs = [pil_im_g7, pil_im_s7, pil_im_m7, pil_im_mi7]\n",
        "\n",
        "grid = image_grid(imgs, rows=2, cols=2)\n",
        "\n",
        "display(grid)"
      ],
      "metadata": {
        "id": "jh144WCv_y68"
      },
      "execution_count": null,
      "outputs": []
    },
    {
      "cell_type": "code",
      "source": [
        "# Compara papa sana antes y después de aplicar desenfoque Gaussiano, filtros Sobel, Máximo y Mínimo\n",
        "\n",
        "# Original\n",
        "pil_im8 = Image.open('{}/5.jpg'.format(inPath4))\n",
        "ImageDraw.Draw(pil_im8).text((0, 0),'Healthy', (0, 0, 0))\n",
        "display(pil_im8)\n",
        "\n",
        "# Desenfoque Gaussiano\n",
        "pil_im_g8 = Image.open('{}/5.jpg'.format(inPath8)).convert('RGB')\n",
        "ImageDraw.Draw(pil_im_g8).text((0, 0),'Healthy Gaussian', (0, 0, 0))\n",
        "\n",
        "# Sobel\n",
        "pil_im_s8 = Image.open('{}/5.jpg'.format(inPath12)).convert('RGB')\n",
        "ImageDraw.Draw(pil_im_s8).text((0, 0),'Healthy Sobel', (255, 255, 255))\n",
        "\n",
        "# Máximo\n",
        "pil_im_m8 = Image.open('{}/5.jpg'.format(inPath16)).convert('RGB')\n",
        "ImageDraw.Draw(pil_im_m8).text((0, 0),'Healthy Maximum', (0, 0, 0))\n",
        "\n",
        "# Mínimo\n",
        "pil_im_mi8 = Image.open('{}/5.jpg'.format(inPath20)).convert('RGB')\n",
        "ImageDraw.Draw(pil_im_mi8).text((0, 0),'Healthy Minimum', (0, 0, 0))\n",
        "\n",
        "imgs = [pil_im_g8, pil_im_s8, pil_im_m8, pil_im_mi8]\n",
        "\n",
        "grid = image_grid(imgs, rows=2, cols=2)\n",
        "\n",
        "display(grid)"
      ],
      "metadata": {
        "id": "qdlpjHpL_3D1"
      },
      "execution_count": null,
      "outputs": []
    },
    {
      "cell_type": "markdown",
      "source": [
        "## Clasificador  para dataset sin filtrar"
      ],
      "metadata": {
        "id": "8TNMT8HPAAFm"
      }
    },
    {
      "cell_type": "code",
      "source": [
        "ex_time_nf = []\n",
        "half_time_nf = []\n",
        "\n",
        "j = 1\n",
        "\n",
        "while j < 16:\n",
        "    start = time.perf_counter()\n",
        "\n",
        "end = time.perf_counter()\n",
        "    total = end - start  # calcula tiempo total\n",
        "    print(f\"Tiempo transcurrido: {(total)} s\")\n",
        "    ex_time_nf.append(total)\n",
        "    half_t = (total/2)  # calcula valor para aproximar el tiempo que toma procesar el 50% de las imágenes\n",
        "    half_time_nf.append(half_t)\n",
        "    j +=1"
      ],
      "metadata": {
        "id": "YqCRmlVLANy1"
      },
      "execution_count": null,
      "outputs": []
    },
    {
      "cell_type": "markdown",
      "source": [
        "## Determinación del tiempo de ejecución para el 50% y 100% de las imágenes clasificadas   "
      ],
      "metadata": {
        "id": "ldh460gQADJR"
      }
    },
    {
      "cell_type": "code",
      "source": [
        "print(\"Tiempo mínimo \", min(ex_time_nf), 's')\n",
        "print(\"Tiempo máximo: \", max(ex_time_nf), 's')\n",
        "print(\"Tiempo promedio: \", sum(ex_time_nf)/len(ex_time_nf), 's')\n",
        "print(\"Desviación estándar del tiempo: \", np.std(ex_time_nf), 's')"
      ],
      "metadata": {
        "id": "9qfdAsVRAYHz"
      },
      "execution_count": null,
      "outputs": []
    },
    {
      "cell_type": "code",
      "source": [
        "print(\"Tiempo mínimo mitad ejecución \", min(half_time_nf), 's')\n",
        "print(\"Tiempo máximo mitad ejecución: \", max(half_time_nf), 's')\n",
        "print(\"Tiempo promedio mitad ejecución: \", sum(half_time_nf)/len(half_time_nf), 's')\n",
        "print(\"Desviación estándar del tiempo mitad ejecución: \", np.std(half_time_nf), 's')"
      ],
      "metadata": {
        "id": "s3_OqePyAcpl"
      },
      "execution_count": null,
      "outputs": []
    },
    {
      "cell_type": "markdown",
      "source": [
        "## Clasificador  para dataset filtro Gaussiano"
      ],
      "metadata": {
        "id": "psWohZIRAgUn"
      }
    },
    {
      "cell_type": "code",
      "source": [
        "ex_time = []\n",
        "half_time = []\n",
        "\n",
        "j = 1\n",
        "\n",
        "while j < 16:\n",
        "    start = time.perf_counter()\n",
        "\n",
        "end = time.perf_counter()\n",
        "    total = end - start\n",
        "    print(f\"Tiempo transcurrido: {(total)} s\")\n",
        "    ex_time.append(total)\n",
        "    half_t = (total/2)\n",
        "    half_time.append(half_t)\n",
        "    j +=1"
      ],
      "metadata": {
        "id": "C1XNtM1ZAkbH"
      },
      "execution_count": null,
      "outputs": []
    },
    {
      "cell_type": "markdown",
      "source": [
        "## Determinación del tiempo de ejecución para el 50% y 100% de las imágenes clasificadas"
      ],
      "metadata": {
        "id": "94PjsAUnAvxc"
      }
    },
    {
      "cell_type": "code",
      "source": [
        "print(\"Tiempo mínimo \", min(ex_time), 's')\n",
        "print(\"Tiempo máximo: \", max(ex_time), 's')\n",
        "print(\"Tiempo promedio: \", sum(ex_time)/len(ex_time),'s')\n",
        "print(\"Desviación estándar del tiempo: \", np.std(ex_time), 's')"
      ],
      "metadata": {
        "id": "rUOsPBFdAzNi"
      },
      "execution_count": null,
      "outputs": []
    },
    {
      "cell_type": "code",
      "source": [
        "print(\"Tiempo mínimo mitad ejecución \", min(half_time), 's')\n",
        "print(\"Tiempo máximo mitad ejecución: \", max(half_time), 's')\n",
        "print(\"Tiempo promedio mitad ejecución: \", sum(half_time)/len(half_time), 's')\n",
        "print(\"Desviación estándar del tiempo mitad ejecución: \", np.std(half_time), 's')"
      ],
      "metadata": {
        "id": "6hFiL4S0A4GN"
      },
      "execution_count": null,
      "outputs": []
    },
    {
      "cell_type": "markdown",
      "source": [
        "## Clasificador  para dataset filtro Sobel"
      ],
      "metadata": {
        "id": "HyoSmmmTA7wi"
      }
    },
    {
      "cell_type": "code",
      "source": [
        "ex_time_s = []\n",
        "half_time_s = []\n",
        "\n",
        "j = 1\n",
        "\n",
        "while j < 16:\n",
        "    start = time.perf_counter()\n",
        "\n",
        "end = time.perf_counter()\n",
        "    total = end - start\n",
        "    print(f\"Tiempo transcurrido: {(total)} s\")\n",
        "    ex_time_s.append(total)\n",
        "    half_t = (total/2)\n",
        "    half_time_s.append(half_t)\n",
        "    j +=1\n"
      ],
      "metadata": {
        "id": "r8_IwyWpBBxP"
      },
      "execution_count": null,
      "outputs": []
    },
    {
      "cell_type": "markdown",
      "source": [
        "## Determinación del tiempo de ejecución para el 50% y 100% de las imágenes clasificadas"
      ],
      "metadata": {
        "id": "ke37ZJ1WBKzI"
      }
    },
    {
      "cell_type": "code",
      "source": [
        "print(\"Tiempo mínimo \", min(ex_time_s), 's')\n",
        "print(\"Tiempo máximo: \", max(ex_time_s), 's')\n",
        "print(\"Tiempo promedio: \", sum(ex_time_nf)/len(ex_time_s), 's')\n",
        "print(\"Desviación estándar del tiempo: \", np.std(ex_time_s), 's')"
      ],
      "metadata": {
        "id": "jjzJqhR6BOKl"
      },
      "execution_count": null,
      "outputs": []
    },
    {
      "cell_type": "code",
      "source": [
        "print(\"Tiempo mínimo mitad ejecución \", min(half_time_s), 's')\n",
        "print(\"Tiempo máximo mitad ejecución: \", max(half_time_s), 's')\n",
        "print(\"Tiempo promedio mitad ejecución: \", sum(half_time_s)/len(half_time_s), 's')\n",
        "print(\"Desviación estándar del tiempo mitad ejecución: \", np.std(half_time_s), 's')"
      ],
      "metadata": {
        "id": "r7YvhoDBBRiv"
      },
      "execution_count": null,
      "outputs": []
    },
    {
      "cell_type": "markdown",
      "source": [
        "## Clasificador  para dataset filtro Máximo"
      ],
      "metadata": {
        "id": "WWTaHbkBBWlm"
      }
    },
    {
      "cell_type": "code",
      "source": [
        "ex_time_max = []\n",
        "half_time_max = []\n",
        "\n",
        "j = 1\n",
        "\n",
        "while j < 16:\n",
        "    start = time.perf_counter()\n",
        "\n",
        "\n",
        "  end = time.perf_counter()\n",
        "    total = end - start\n",
        "    print(f\"Tiempo transcurrido: {(total)} s\")\n",
        "    ex_time_max.append(total)\n",
        "    half_t = (total/2)\n",
        "    half_time_max.append(half_t)\n",
        "    j +=1\n"
      ],
      "metadata": {
        "id": "njriySpwBU7u"
      },
      "execution_count": null,
      "outputs": []
    },
    {
      "cell_type": "markdown",
      "source": [
        "## Determinación del tiempo de ejecución para el 50% y 100% de las imágenes clasificadas"
      ],
      "metadata": {
        "id": "kd6C3KDzBkJF"
      }
    },
    {
      "cell_type": "code",
      "source": [
        "print(\"Tiempo mínimo \", min(ex_time_max), 's')\n",
        "print(\"Tiempo máximo: \", max(ex_time_max), 's')\n",
        "print(\"Tiempo promedio: \", sum(ex_time_max)/len(ex_time_max), 's')\n",
        "print(\"Desviación estándar del tiempo: \", np.std(ex_time_max), 's')"
      ],
      "metadata": {
        "id": "jTyZ2JiQBnx3"
      },
      "execution_count": null,
      "outputs": []
    },
    {
      "cell_type": "code",
      "source": [
        "print(\"Tiempo mínimo mitad ejecución \", min(half_time_max), 's')\n",
        "print(\"Tiempo máximo mitad ejecución: \", max(half_time_max))\n",
        "print(\"Tiempo promedio mitad ejecución: \", sum(half_time_max)/len(half_time_max), 's')\n",
        "print(\"Desviación estándar del tiempo mitad ejecución: \", np.std(half_time_max), 's')"
      ],
      "metadata": {
        "id": "gEmDZxhvBrKe"
      },
      "execution_count": null,
      "outputs": []
    },
    {
      "cell_type": "markdown",
      "source": [
        "## Clasificador  para dataset filtro Mínimo"
      ],
      "metadata": {
        "id": "5lOJG526Bucp"
      }
    },
    {
      "cell_type": "code",
      "source": [
        "ex_time_min = []\n",
        "half_time_min = []\n",
        "\n",
        "j = 1\n",
        "\n",
        "while j < 16:\n",
        "    start = time.perf_counter()\n",
        "\n",
        " end = time.perf_counter()\n",
        "    total = end - start\n",
        "    print(f\"Tiempo transcurrido: {(total)} s\")\n",
        "    ex_time_min.append(total)\n",
        "    half_t = (total/2)\n",
        "    half_time_min.append(half_t)\n",
        "    j +=1\n"
      ],
      "metadata": {
        "id": "2ScH2hzqB0HX"
      },
      "execution_count": null,
      "outputs": []
    },
    {
      "cell_type": "markdown",
      "source": [
        "## Determinación del tiempo de ejecución para el 50% y 100% de las imágenes clasificadas"
      ],
      "metadata": {
        "id": "MaMQoeZIB-MG"
      }
    },
    {
      "cell_type": "code",
      "source": [
        "print(\"Tiempo mínimo \", min(ex_time_min), 's')\n",
        "print(\"Tiempo máximo: \", max(ex_time_min), 's')\n",
        "print(\"Tiempo promedio: \", sum(ex_time_min)/len(ex_time_min), 's')\n",
        "print(\"Desviación estándar del tiempo: \", np.std(ex_time_min), 's')"
      ],
      "metadata": {
        "id": "mS08S9SJB_d2"
      },
      "execution_count": null,
      "outputs": []
    },
    {
      "cell_type": "code",
      "source": [
        "print(\"Tiempo mínimo mitad ejecución \", min(half_time_min), 's')\n",
        "print(\"Tiempo máximo mitad ejecución: \", max(half_time_min), 's')\n",
        "print(\"Tiempo promedio mitad ejecución: \", sum(half_time_min)/len(half_time_min), 's')\n",
        "print(\"Desviación estándar del tiempo mitad ejecución: \", np.std(half_time_min), 's')"
      ],
      "metadata": {
        "id": "4I_HplypCCpC"
      },
      "execution_count": null,
      "outputs": []
    },
    {
      "cell_type": "markdown",
      "source": [
        "## Análisis de resultados del procesamiento de la muestra del dataset de papas"
      ],
      "metadata": {
        "id": "t6IjnR0LCLK6"
      }
    },
    {
      "cell_type": "markdown",
      "source": [
        "|**Modelo**| **Accuracy**| **Precision** | **Recall** | **F1 Score**|\n",
        "|---|---|---|---|---|\n",
        "| **Modelo 1 (SVM sin filtro)** |64.15 %| 63.41 %| 64.15 %| 62.58 %|,\n",
        "| **Modelo 2 (SVM filtro Gaussiano)** | 56.60 % | 61.22 %| 56.60 %| 57.74 %|\n",
        "| **Modelo 3 (SVM filtro Sobel)** | 81.13 % | 81.85 %| 81.13 %| 80.96 % |\n",
        "|**Modelo 4 (SVM filtro Máximo)** | 60.38 % | 59.30 %| 60.38 %| 59.35 % |\n",
        "| **Modelo 5 (SVM filtro Mínimo)** |56.60 % | 66.51 %| 56.60 %| 57.54 % |"
      ],
      "metadata": {
        "id": "3cjoiAn3CMfC"
      }
    },
    {
      "cell_type": "markdown",
      "source": [
        " | **Modelo**      | **t min (s)**| **t máx (s)** | **t prom. (s)** | **std. t (s)**|\n",
        "|---|---|---|---|---|\n",
        "| **Modelo 1 (SVM sin filtro)** |14.01| 22.52| 15.71| 2.18|\n",
        "| **Modelo 2 (SVM filtro Gaussiano)** | 14.39| 18.24| 15.72| 1.35|\n",
        "| **Modelo 3 (SVM filtro Sobel)** | 14.13| 29.14|15.71| 5.34|\n",
        "| **Modelo 4 (SVM filtro Máximo)** |14.74| 34.60| 22.04|6.15|\n",
        "| **Modelo 5 (SVM filtro Mínimo)** |14.87|30.03|21.65|5.26|"
      ],
      "metadata": {
        "id": "BGSX34y-CRvB"
      }
    },
    {
      "cell_type": "markdown",
      "source": [
        "|**Modelo**| **t/2 min (s)**| **t/2 máx (s)** | **t/2 prom. (s)** | **std. t/2 (s)**|\n",
        "|---|---|---|---|---|        \n",
        "|**Modelo 1 (SVM sin filtro)** |7.01| 11.26| 7.85|  1.09|\n",
        "|**Modelo 2 (SVM filtro Gaussiano)** | 7.19| 9.12|7.86|0.68|\n",
        "|**Modelo 3 (SVM filtro Sobel)** |7.06|14.57|9.55|2.67|\n",
        "| **Modelo 4 (SVM filtro Máximo)** |7.37|17.30| 10.83|3.08|\n",
        "| **Modelo 5 (SVM filtro Mínimo)** |7.44| 15.01|8.54|2.63|"
      ],
      "metadata": {
        "id": "cc2Ppsl3CWbz"
      }
    },
    {
      "cell_type": "markdown",
      "source": [
        "# Conclusiones"
      ],
      "metadata": {
        "id": "jO6KdYeYCeKe"
      }
    }
  ],
  "metadata": {
    "language_info": {
      "name": "python"
    },
    "orig_nbformat": 4,
    "colab": {
      "provenance": [],
      "include_colab_link": true
    }
  },
  "nbformat": 4,
  "nbformat_minor": 0
}