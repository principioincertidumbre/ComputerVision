{
  "cells": [
    {
      "cell_type": "markdown",
      "metadata": {
        "id": "view-in-github",
        "colab_type": "text"
      },
      "source": [
        "<a href=\"https://colab.research.google.com/github/principioincertidumbre/ComputerVision/blob/main/IntroCV_Tarea_2_Sof%C3%ADa_Vits.ipynb\" target=\"_parent\"><img src=\"https://colab.research.google.com/assets/colab-badge.svg\" alt=\"Open In Colab\"/></a>"
      ]
    },
    {
      "cell_type": "markdown",
      "metadata": {
        "id": "b34oxVubq3Fa"
      },
      "source": [
        "<center>\n",
        "    <h1>Introducción a la Visión Computacional</h1>\n",
        "    <h1>Tarea 2</h1>\n",
        "</center>\n",
        "\n",
        "### Magíster en Data Science\n",
        "### U. del Desarrollo\n",
        "\n",
        "-----------------------\n",
        "<div align=\"right\">\n",
        "\n",
        "Estudiante: Sofía Vits\n",
        "\n",
        "Profesor: Takeshi Asahi\n",
        "\n",
        "Fecha de Entrega: Lunes 5, Mayo 20245.\n",
        "</div>"
      ]
    },
    {
      "cell_type": "markdown",
      "metadata": {
        "id": "lvyTwdxEq3Fl"
      },
      "source": [
        "## Instrucciones\n",
        "\n",
        "1. Diseñar un flujo de procesamiento a nivel abstracto: adquisición de imágenes, pre-procesamiento, procesamiento de imágenes, cálculo de la medición, almacenamiento.\n",
        "\n",
        "2. Con la base de datos seleccionada, implementar un sistema de reconocimiento y/o procesamiento en el cual se realice una medida o inferencia sobre imagen. Puede ser la detección de un objeto, medición de distancias entre píxeles de alguna característica, medición del tamaño de algún objeto (en cantidad de píxeles) clasificación de la imagen, entre otros.\n",
        "\n",
        "3. Para procesar el conjunto completo de imágenes, medir los tiempos de ejecución del proceso completo. Realizar la medición para el 50% y el 100% de la imágenes varias veces, de manera de obtener algunas figuras estadísticas: tiempo máximo, tiempo mínimo, tiempo medio, desviación estándar del tiempo.\n",
        "\n",
        "4. Hacer resumen de los resultados del procesamiento. Para ello debe decidir una métrica para indicar si el procesamiento es satisfactorio. Para esto último algunas veces es necesario hacer la evaluación en forma manual, por lo tanto, si fuera este el caso, seleccionar un sub-conjunto de las imágenes (por ejemplo, unas 50) y comparar el desempeño del algoritmo en estas imágenes.\n",
        "\n",
        "## Formato de Entrega:\n",
        "1. Escribir un informe o entregar el notebook con comentarios y documentación, incluyendo el análisis (comentando) los resultados. Recordar las recomendaciones de la Tarea 1, de **no mostrar todas las imágenes procesadas en el notebook** sino que solamente un número reducido de ejemplos. Los comentarios son muy importantes.\n",
        "\n",
        "2. De percatarse que si encontrarn que el set de imágenes propuesto en la Tarea 1 no es el adecuado, se puede realizar un cambio en el dataset. Justificar el cambio. Este tipo de decisiones puede ocurrir en un proyecto. Muchas veces es necesario probar una variedad de datasets.\n",
        "\n",
        "3. No está permitido el uso de Herramientas de Inteligencia Artificial para generar el informe. El uso de Inteligencia Artificial Generativa solamente se remite a la sugerencia de código parcial, como copilot."
      ]
    },
    {
      "cell_type": "markdown",
      "source": [
        "# Introducción\n",
        "\n",
        "La papas es un tubérculo que fue domesticado en la región andina de Sudamérica. Junto con el trigo y arroz, es uno de los cultivos más importantes para la alimentación de la especie humana.\n",
        "\n",
        "Lamentablemente, existen enfermedades de las papas que generan pérdidas económicas y afectan la calidad del producto final. Por lo tanto, es importante detectar estas enfermedades a tiempo.\n",
        "\n",
        "El dataset \"Potato Diseases Datasets\" fue compilado a partir de diversas páginas web, siendo validado por el Instituto de Investigación Agrícola de Bangladesh (BARI).\n",
        "\n",
        "El dataset completo contiene 451 imágenes, siendo clasificadas como common scab (papas infectadas por bacteria Streptomyces scabies, contiene 62 imágenes), blackleg (papas infectadas por bacteria Pectobacterium atrosepticum, contiene 60 imágenes), dry rot (infección causada por hongos del género Fusarium, contiene 60 imágenes), pink rot (infección fúngica causada por Phytophthora erythroseptica, contiene 57 imágenes), black scurf (infección fúngica, contiene 58 imágenes), papas sanas (80 imágenes) y papas afectadas por otros tipos de infecciones (74 imágenes).\n",
        "\n",
        "Considerando las enfermedades más comunes de la papa en Chile, se considerarán las clases common scab, blackleg, dry rot y papas sanas para realizar una clasificación multiclase. Esta muestra del dataset contiene 262 imágenes en total.\n",
        "\n",
        "\n",
        "Dataset utilizado:\n",
        "\n",
        "https://www.kaggle.com/datasets/mukaffimoin/potato-diseases-datasets/\n",
        "\n",
        "Fuente del dataset:\n",
        "\n",
        "F. T. J. Faria, M. Bin Moin, A. Al Wase, M. R. Sani, K. M. Hasib and M. S. Alam, \"Classification of Potato Disease with Digital Image Processing Technique: A Hybrid Deep Learning Framework,\" 2023 IEEE 13th Annual Computing and Communication Workshop and Conference (CCWC), Las Vegas, NV, USA, 2023, pp. 0820-0826, doi: 10.1109/CCWC57344.2023.10099162.\n",
        "\n",
        "Otras fuentes:\n",
        "\n",
        "Centro Internacional de la Papa. \"Datos y cifras de la papa\". Recuperado de: https://cipotato.org/es/potato/potato-facts-and-figures/\n",
        "\n",
        "Méndez, P., Gaete, N. \"Principales enfermedades que afectan al cultivo de la papa\", INIA Carillanca. Recuperado de: https://tizon.inia.cl/assets/boletines/inia%20carillanca%20-%20principales%20enfermedades%20que%20afectan%20el%20cultivo%20de%20la%20papa.pdf\n",
        "\n",
        "North Dakota State University. \"Common scab\". Recuperado de: https://www.ag.ndsu.edu/potatoextension/common-scab\n",
        "\n",
        "The Royal Horticultural Society. \"Potato blackleg\". Recuperado de: https://www.rhs.org.uk/disease/potato-blackleg\n",
        "\n",
        "Cornell University. \"Fusarium Dry Rot of Potato\". Recuperado de: https://www.vegetables.cornell.edu/pest-management/disease-factsheets/fusarium-dry-rot-of-potato/"
      ],
      "metadata": {
        "id": "ImiOBWhDhJln"
      }
    },
    {
      "cell_type": "markdown",
      "source": [
        "# Metodología\n",
        "\n",
        "1.- Cargar la muestra del dataset y dividir las carpetas en carpeta de entrenamiento y test.\n",
        "\n",
        "2.- Implementar un algoritmo de clasificación multiclase, midiendo el tiempo mínimo, tiempo máximo, tiempo promedio y desviación estándard del tiempo de procesamiento.\n",
        "\n",
        "3.- Comparar los resultados mediante métricas para verificar qué tipo de preprocesamiento permite obtener los mejores resultados.\n"
      ],
      "metadata": {
        "id": "v7nqPVoThOb3"
      }
    },
    {
      "cell_type": "markdown",
      "source": [
        "# Desarrollo"
      ],
      "metadata": {
        "id": "Ulw-oP6OhRgg"
      }
    },
    {
      "cell_type": "code",
      "source": [
        "from PIL import Image\n",
        "from os.path import exists\n",
        "import os\n",
        "import numpy as np\n",
        "import matplotlib.pyplot as plt\n"
      ],
      "metadata": {
        "id": "FwkZlKHFkJsL"
      },
      "execution_count": 1,
      "outputs": []
    },
    {
      "cell_type": "code",
      "source": [
        "from google.colab import drive\n",
        "drive.mount('/content/drive')"
      ],
      "metadata": {
        "colab": {
          "base_uri": "https://localhost:8080/"
        },
        "id": "mgl35HXXkpM5",
        "outputId": "06fb7c49-bdd6-4bd6-c81c-4dedfc255ece"
      },
      "execution_count": 2,
      "outputs": [
        {
          "output_type": "stream",
          "name": "stdout",
          "text": [
            "Mounted at /content/drive\n"
          ]
        }
      ]
    },
    {
      "cell_type": "code",
      "source": [
        "#Abrir una imagen de cada carpeta que contiene imágenes de papas enfermas o sanas\n",
        "\n",
        "inPath1  = '/content/drive/MyDrive/potato/Common Scab proc'\n",
        "inPath2  = '/content/drive/MyDrive/potato/Blackleg proc'\n",
        "inPath3  = '/content/drive/MyDrive/potato/Dry Rot proc'\n",
        "inPath4 = '/content/drive/MyDrive/potato/Healthy Potatoes proc'\n",
        "inPath5 = '/content/drive/MyDrive/potato/Common Scab Gauss'\n",
        "inPath6 = '/content/drive/MyDrive/potato/Blackleg Gauss'\n",
        "inPath7 = '/content/drive/MyDrive/potato/Dry Rot Gauss'\n",
        "inPath8 = '/content/drive/MyDrive/potato/Healthy Potatoes Gauss'\n",
        "inPath9 = '/content/drive/MyDrive/potato/Common Scab Sobel'\n",
        "inPath10 = '/content/drive/MyDrive/potato/Blackleg Sobel'\n",
        "inPath11 = '/content/drive/MyDrive/potato/Dry Rot Sobel'\n",
        "inPath12 = '/content/drive/MyDrive/potato/Healthy Potatoes Sobel'"
      ],
      "metadata": {
        "id": "6yKGrWDNlA0y"
      },
      "execution_count": 3,
      "outputs": []
    },
    {
      "cell_type": "code",
      "source": [],
      "metadata": {
        "id": "aa81ILX6mCki"
      },
      "execution_count": null,
      "outputs": []
    },
    {
      "cell_type": "markdown",
      "source": [
        "# Conclusiones"
      ],
      "metadata": {
        "id": "BuBJxxRYhUlc"
      }
    }
  ],
  "metadata": {
    "colab": {
      "provenance": [],
      "include_colab_link": true
    },
    "kernelspec": {
      "display_name": "Python 3 (ipykernel)",
      "language": "python",
      "name": "python3"
    },
    "language_info": {
      "codemirror_mode": {
        "name": "ipython",
        "version": 3
      },
      "file_extension": ".py",
      "mimetype": "text/x-python",
      "name": "python",
      "nbconvert_exporter": "python",
      "pygments_lexer": "ipython3",
      "version": "3.9.16"
    }
  },
  "nbformat": 4,
  "nbformat_minor": 0
}