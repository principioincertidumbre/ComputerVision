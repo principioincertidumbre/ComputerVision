{
  "cells": [
    {
      "cell_type": "markdown",
      "metadata": {
        "id": "view-in-github",
        "colab_type": "text"
      },
      "source": [
        "<a href=\"https://colab.research.google.com/github/principioincertidumbre/ComputerVision/blob/main/IntroCV_Tarea_2_Sof%C3%ADa_Vits.ipynb\" target=\"_parent\"><img src=\"https://colab.research.google.com/assets/colab-badge.svg\" alt=\"Open In Colab\"/></a>"
      ]
    },
    {
      "cell_type": "markdown",
      "metadata": {
        "id": "b34oxVubq3Fa"
      },
      "source": [
        "<center>\n",
        "    <h1>Introducción a la Visión Computacional</h1>\n",
        "    <h1>Tarea 2</h1>\n",
        "</center>\n",
        "\n",
        "### Magíster en Data Science\n",
        "### U. del Desarrollo\n",
        "\n",
        "-----------------------\n",
        "<div align=\"right\">\n",
        "\n",
        "Estudiante: Sofía Vits\n",
        "\n",
        "Profesor: Takeshi Asahi\n",
        "\n",
        "Fecha de Entrega: Lunes 5, Mayo 20245.\n",
        "</div>"
      ]
    },
    {
      "cell_type": "markdown",
      "metadata": {
        "id": "lvyTwdxEq3Fl"
      },
      "source": [
        "## Instrucciones\n",
        "\n",
        "1. Diseñar un flujo de procesamiento a nivel abstracto: adquisición de imágenes, pre-procesamiento, procesamiento de imágenes, cálculo de la medición, almacenamiento.\n",
        "\n",
        "2. Con la base de datos seleccionada, implementar un sistema de reconocimiento y/o procesamiento en el cual se realice una medida o inferencia sobre imagen. Puede ser la detección de un objeto, medición de distancias entre píxeles de alguna característica, medición del tamaño de algún objeto (en cantidad de píxeles) clasificación de la imagen, entre otros.\n",
        "\n",
        "3. Para procesar el conjunto completo de imágenes, medir los tiempos de ejecución del proceso completo. Realizar la medición para el 50% y el 100% de la imágenes varias veces, de manera de obtener algunas figuras estadísticas: tiempo máximo, tiempo mínimo, tiempo medio, desviación estándar del tiempo.\n",
        "\n",
        "4. Hacer resumen de los resultados del procesamiento. Para ello debe decidir una métrica para indicar si el procesamiento es satisfactorio. Para esto último algunas veces es necesario hacer la evaluación en forma manual, por lo tanto, si fuera este el caso, seleccionar un sub-conjunto de las imágenes (por ejemplo, unas 50) y comparar el desempeño del algoritmo en estas imágenes.\n",
        "\n",
        "## Formato de Entrega:\n",
        "1. Escribir un informe o entregar el notebook con comentarios y documentación, incluyendo el análisis (comentando) los resultados. Recordar las recomendaciones de la Tarea 1, de **no mostrar todas las imágenes procesadas en el notebook** sino que solamente un número reducido de ejemplos. Los comentarios son muy importantes.\n",
        "\n",
        "2. De percatarse que si encontrarn que el set de imágenes propuesto en la Tarea 1 no es el adecuado, se puede realizar un cambio en el dataset. Justificar el cambio. Este tipo de decisiones puede ocurrir en un proyecto. Muchas veces es necesario probar una variedad de datasets.\n",
        "\n",
        "3. No está permitido el uso de Herramientas de Inteligencia Artificial para generar el informe. El uso de Inteligencia Artificial Generativa solamente se remite a la sugerencia de código parcial, como copilot."
      ]
    },
    {
      "cell_type": "markdown",
      "source": [
        "# Introducción\n",
        "\n",
        "La papas es un tubérculo que fue domesticado en la región andina de Sudamérica. Junto con el trigo y arroz, es uno de los cultivos más importantes para la alimentación de la especie humana.\n",
        "\n",
        "Lamentablemente, existen enfermedades de las papas que generan pérdidas económicas y afectan la calidad del producto final. Por lo tanto, es importante detectar estas enfermedades a tiempo.\n",
        "\n",
        "El dataset \"Potato Diseases Datasets\" fue compilado a partir de diversas páginas web, siendo validado por el Instituto de Investigación Agrícola de Bangladesh (BARI).\n",
        "\n",
        "El dataset completo contiene 451 imágenes, siendo clasificadas como common scab (papas infectadas por bacteria Streptomyces scabies, contiene 62 imágenes), blackleg (papas infectadas por bacteria Pectobacterium atrosepticum, contiene 60 imágenes), dry rot (infección causada por hongos del género Fusarium, contiene 60 imágenes), pink rot (infección fúngica causada por Phytophthora erythroseptica, contiene 57 imágenes), black scurf (infección fúngica, contiene 58 imágenes), papas sanas (80 imágenes) y papas afectadas por otros tipos de infecciones (74 imágenes).\n",
        "\n",
        "Considerando las enfermedades más comunes de la papa en Chile, se considerarán las clases common scab, blackleg, dry rot y papas sanas para realizar una clasificación multiclase mediante el algoritmo Support Vector Machine (SVM). Esta muestra del dataset contiene 262 imágenes en total.\n",
        "\n",
        "\n",
        "Dataset utilizado:\n",
        "\n",
        "https://www.kaggle.com/datasets/mukaffimoin/potato-diseases-datasets/\n",
        "\n",
        "Fuente del dataset:\n",
        "\n",
        "F. T. J. Faria, M. Bin Moin, A. Al Wase, M. R. Sani, K. M. Hasib and M. S. Alam, \"Classification of Potato Disease with Digital Image Processing Technique: A Hybrid Deep Learning Framework,\" 2023 IEEE 13th Annual Computing and Communication Workshop and Conference (CCWC), Las Vegas, NV, USA, 2023, pp. 0820-0826, doi: 10.1109/CCWC57344.2023.10099162.\n",
        "\n",
        "Otras fuentes:\n",
        "\n",
        "Centro Internacional de la Papa. \"Datos y cifras de la papa\". Recuperado de: https://cipotato.org/es/potato/potato-facts-and-figures/\n",
        "\n",
        "Méndez, P., Gaete, N. \"Principales enfermedades que afectan al cultivo de la papa\", INIA Carillanca. Recuperado de: https://tizon.inia.cl/assets/boletines/inia%20carillanca%20-%20principales%20enfermedades%20que%20afectan%20el%20cultivo%20de%20la%20papa.pdf\n",
        "\n",
        "North Dakota State University. \"Common scab\". Recuperado de: https://www.ag.ndsu.edu/potatoextension/common-scab\n",
        "\n",
        "The Royal Horticultural Society. \"Potato blackleg\". Recuperado de: https://www.rhs.org.uk/disease/potato-blackleg\n",
        "\n",
        "Cornell University. \"Fusarium Dry Rot of Potato\". Recuperado de: https://www.vegetables.cornell.edu/pest-management/disease-factsheets/fusarium-dry-rot-of-potato/"
      ],
      "metadata": {
        "id": "ImiOBWhDhJln"
      }
    },
    {
      "cell_type": "markdown",
      "source": [
        "# Metodología\n",
        "\n",
        "1.- Cargar la muestra del dataset y ordenar las carpetas a utilizar para el algoritmo de clasificación SVM multiclase.\n",
        "\n",
        "2.- Implementar algoritmo de clasificación SVM multiclase, midiendo el tiempo mínimo, tiempo máximo, tiempo promedio y desviación estándard del tiempo de procesamiento.\n",
        "\n",
        "3.- Comparar los resultados mediante métricas para verificar qué tipo de preprocesamiento permite obtener los mejores resultados.\n"
      ],
      "metadata": {
        "id": "v7nqPVoThOb3"
      }
    },
    {
      "cell_type": "markdown",
      "source": [
        "# Desarrollo"
      ],
      "metadata": {
        "id": "Ulw-oP6OhRgg"
      }
    },
    {
      "cell_type": "code",
      "source": [
        "from PIL import Image\n",
        "from os.path import exists\n",
        "import os\n",
        "import numpy as np\n",
        "import matplotlib.pyplot as plt\n",
        "from sklearn import svm\n",
        "from skimage.transform import resize\n",
        "from skimage.io import imread\n",
        "from sklearn.model_selection import train_test_split\n",
        "from sklearn.metrics import classification_report,accuracy_score,confusion_matrix\n",
        "from sklearn.metrics import confusion_matrix, ConfusionMatrixDisplay\n",
        "from sklearn.metrics import accuracy_score,precision_score,recall_score,f1_score\n",
        "from sklearn.svm import SVC\n",
        "import pandas as pd\n",
        "import time"
      ],
      "metadata": {
        "id": "FwkZlKHFkJsL"
      },
      "execution_count": 19,
      "outputs": []
    },
    {
      "cell_type": "code",
      "source": [
        "from google.colab import drive\n",
        "drive.mount('/content/drive')"
      ],
      "metadata": {
        "colab": {
          "base_uri": "https://localhost:8080/"
        },
        "id": "mgl35HXXkpM5",
        "outputId": "358970ca-ef62-42d3-db9f-4b05c0ee9d2c"
      },
      "execution_count": 3,
      "outputs": [
        {
          "output_type": "stream",
          "name": "stdout",
          "text": [
            "Mounted at /content/drive\n"
          ]
        }
      ]
    },
    {
      "cell_type": "code",
      "source": [
        "#Abrir una imagen de cada carpeta que contiene imágenes de papas enfermas o sanas\n",
        "\n",
        "inPath1  = '/content/drive/MyDrive/potato/Common Scab proc'\n",
        "inPath2  = '/content/drive/MyDrive/potato/Blackleg proc'\n",
        "inPath3  = '/content/drive/MyDrive/potato/Dry Rot proc'\n",
        "inPath4 = '/content/drive/MyDrive/potato/Healthy Potatoes proc'\n",
        "inPath5 = '/content/drive/MyDrive/potato/Common Scab Gauss'\n",
        "inPath6 = '/content/drive/MyDrive/potato/Blackleg Gauss'\n",
        "inPath7 = '/content/drive/MyDrive/potato/Dry Rot Gauss'\n",
        "inPath8 = '/content/drive/MyDrive/potato/Healthy Potatoes Gauss'\n",
        "inPath9 = '/content/drive/MyDrive/potato/Common Scab Sobel'\n",
        "inPath10 = '/content/drive/MyDrive/potato/Blackleg Sobel'\n",
        "inPath11 = '/content/drive/MyDrive/potato/Dry Rot Sobel'\n",
        "inPath12 = '/content/drive/MyDrive/potato/Healthy Potatoes Sobel'\n",
        "inPath13 = '/content/drive/MyDrive/potato/Common Scab Max'\n",
        "inPath14 = '/content/drive/MyDrive/potato/Blackleg Max'\n",
        "inPath15 = '/content/drive/MyDrive/potato/Dry Rot Max'\n",
        "inPath16 = '/content/drive/MyDrive/potato/Healthy Potatoes Max'\n",
        "inPath17 = '/content/drive/MyDrive/potato/Common Scab Min'\n",
        "inPath18 = '/content/drive/MyDrive/potato/Blackleg Min'\n",
        "inPath19 = '/content/drive/MyDrive/potato/Dry Rot Min'\n",
        "inPath20 = '/content/drive/MyDrive/potato/Healthy Potatoes Min'\n",
        "\n",
        "# Define carpetas de salida, las cuales serán creadas posteriormente en este trabajo\n",
        "\n",
        "outPath1  = '/content/drive/MyDrive/potato/data/common_scab'\n",
        "outPath2  = '/content/drive/MyDrive/potato/data/blackleg'\n",
        "outPath3  = '/content/drive/MyDrive/potato/data/dry_rot'\n",
        "outPath4 = '/content/drive/MyDrive/potato/data/healthy_potato'\n",
        "outPath5 = '/content/drive/MyDrive/potato/data_g/common_scab'\n",
        "outPath6 = '/content/drive/MyDrive/potato/data_g/blackleg'\n",
        "outPath7 = '/content/drive/MyDrive/potato/data_g/dry_rot'\n",
        "outPath8 = '/content/drive/MyDrive/potato/data_g/healthy_potato'\n",
        "outPath9 = '/content/drive/MyDrive/potato/data_s/common_scab'\n",
        "outPath10 = '/content/drive/MyDrive/potato/data_s/blackleg'\n",
        "outPath11 = '/content/drive/MyDrive/potato/data_s/dry_rot'\n",
        "outPath12 = '/content/drive/MyDrive/potato/data_s/healthy_potato'\n",
        "outPath13 = '/content/drive/MyDrive/potato/data_max/common_scab'\n",
        "outPath14 = '/content/drive/MyDrive/potato/data_max/blackleg'\n",
        "outPath15 = '/content/drive/MyDrive/potato/data_max/dry_rot'\n",
        "outPath16 = '/content/drive/MyDrive/potato/data_max/healthy_potato'\n",
        "outPath17 = '/content/drive/MyDrive/potato/data_min/common_scab'\n",
        "outPath18 = '/content/drive/MyDrive/potato/data_min/blackleg'\n",
        "outPath19 = '/content/drive/MyDrive/potato/data_min/dry_rot'\n",
        "outPath20 = '/content/drive/MyDrive/potato/data_min/healthy_potato'"
      ],
      "metadata": {
        "id": "6yKGrWDNlA0y"
      },
      "execution_count": 4,
      "outputs": []
    },
    {
      "cell_type": "code",
      "source": [
        "# Copia archivos\n",
        "\n",
        "import glob\n",
        "\n",
        "# Carpeta Common Scab\n",
        "path = outPath1 #carpeta para guardar imágenes\n",
        "# crea la carpeta de salida si no existe\n",
        "if not os.path.exists(path):\n",
        "    os.makedirs(path)\n",
        "\n",
        "# bucle para copiar imágenes\n",
        "\n",
        "for filename in glob.glob('/content/drive/MyDrive/potato/Common Scab proc/*.jpg'): # carpeta de origen\n",
        "    img = Image.open(filename)\n",
        "    # guarda las imágenes en la carpeta de salida\n",
        "    img.save('{}{}{}'.format(path,'/',os.path.split(filename)[1]))\n",
        "\n",
        "\n",
        "#Carpeta Blackleg\n",
        "path2 = outPath2\n",
        "\n",
        "if not os.path.exists(path2):\n",
        "    os.makedirs(path2)\n",
        "\n",
        "\n",
        "for filename in glob.glob('/content/drive/MyDrive/potato/Blackleg proc/*.jpg'):\n",
        "    img = Image.open(filename)\n",
        "    img.save('{}{}{}'.format(path2,'/',os.path.split(filename)[1]))\n",
        "\n",
        "# Carpeta Dry Rot\n",
        "\n",
        "path3 = outPath3\n",
        "\n",
        "if not os.path.exists(path3):\n",
        "    os.makedirs(path3)\n",
        "\n",
        "\n",
        "for filename in glob.glob('/content/drive/MyDrive/potato/Dry Rot proc/*.jpg'):\n",
        "    img = Image.open(filename)\n",
        "    img.save('{}{}{}'.format(path3,'/',os.path.split(filename)[1]))\n",
        "\n",
        "# Carpeta Healthy Potatoes\n",
        "\n",
        "path4 = outPath4\n",
        "\n",
        "if not os.path.exists(path4):\n",
        "    os.makedirs(path4)\n",
        "\n",
        "for filename in glob.glob('/content/drive/MyDrive/potato/Healthy Potatoes proc/*.jpg'):\n",
        "    img = Image.open(filename)\n",
        "    img.save('{}{}{}'.format(path4,'/',os.path.split(filename)[1]))"
      ],
      "metadata": {
        "id": "aa81ILX6mCki"
      },
      "execution_count": null,
      "outputs": []
    },
    {
      "cell_type": "code",
      "source": [
        "# Copia archivos filtro Gaussiano\n",
        "\n",
        "import glob\n",
        "\n",
        "# Carpeta Common Scab\n",
        "path5 = outPath5 #carpeta para guardar imágenes\n",
        "# crea la carpeta de salida si no existe\n",
        "if not os.path.exists(path5):\n",
        "    os.makedirs(path5)\n",
        "\n",
        "# bucle para copiar imágenes\n",
        "\n",
        "for filename in glob.glob('/content/drive/MyDrive/potato/Common Scab Gauss/*.jpg'): # carpeta de origen\n",
        "    img = Image.open(filename)\n",
        "    # guarda las imágenes en la carpeta de salida\n",
        "    img.save('{}{}{}'.format(path5,'/',os.path.split(filename)[1]))\n",
        "\n",
        "\n",
        "#Carpeta Blackleg\n",
        "path6 = outPath6\n",
        "\n",
        "if not os.path.exists(path6):\n",
        "    os.makedirs(path6)\n",
        "\n",
        "\n",
        "for filename in glob.glob('/content/drive/MyDrive/potato/Blackleg Gauss/*.jpg'):\n",
        "    img = Image.open(filename)\n",
        "    img.save('{}{}{}'.format(path6,'/',os.path.split(filename)[1]))\n",
        "\n",
        "# Carpeta Dry Rot\n",
        "\n",
        "path7 = outPath7\n",
        "\n",
        "if not os.path.exists(path7):\n",
        "    os.makedirs(path7)\n",
        "\n",
        "\n",
        "for filename in glob.glob('/content/drive/MyDrive/potato/Dry Rot Gauss/*.jpg'):\n",
        "    img = Image.open(filename)\n",
        "    img.save('{}{}{}'.format(path7,'/',os.path.split(filename)[1]))\n",
        "\n",
        "# Carpeta Healthy Potatoes\n",
        "\n",
        "path8 = outPath8\n",
        "\n",
        "if not os.path.exists(path8):\n",
        "    os.makedirs(path8)\n",
        "\n",
        "for filename in glob.glob('/content/drive/MyDrive/potato/Healthy Potatoes Gauss/*.jpg'):\n",
        "    img = Image.open(filename)\n",
        "    img.save('{}{}{}'.format(path8,'/',os.path.split(filename)[1]))"
      ],
      "metadata": {
        "id": "pl0RoiVw9RJP"
      },
      "execution_count": null,
      "outputs": []
    },
    {
      "cell_type": "code",
      "source": [
        "# Copia archivos filtro Sobel\n",
        "\n",
        "import glob\n",
        "\n",
        "# Carpeta Common Scab\n",
        "path9 = outPath9 #carpeta para guardar imágenes\n",
        "# crea la carpeta de salida si no existe\n",
        "if not os.path.exists(path9):\n",
        "    os.makedirs(path9)\n",
        "\n",
        "# bucle para copiar imágenes\n",
        "\n",
        "for filename in glob.glob('/content/drive/MyDrive/potato/Common Scab Sobel/*.jpg'): # carpeta de origen\n",
        "    img = Image.open(filename)\n",
        "    # guarda las imágenes en la carpeta de salida\n",
        "    img.save('{}{}{}'.format(path9,'/',os.path.split(filename)[1]))\n",
        "\n",
        "\n",
        "#Carpeta Blackleg\n",
        "path10 = outPath10\n",
        "\n",
        "if not os.path.exists(path10):\n",
        "    os.makedirs(path10)\n",
        "\n",
        "\n",
        "for filename in glob.glob('/content/drive/MyDrive/potato/Blackleg Sobel/*.jpg'):\n",
        "    img = Image.open(filename)\n",
        "    img.save('{}{}{}'.format(path10,'/',os.path.split(filename)[1]))\n",
        "\n",
        "# Carpeta Dry Rot\n",
        "\n",
        "path11 = outPath11\n",
        "\n",
        "if not os.path.exists(path11):\n",
        "    os.makedirs(path11)\n",
        "\n",
        "\n",
        "for filename in glob.glob('/content/drive/MyDrive/potato/Dry Rot Gauss/*.jpg'):\n",
        "    img = Image.open(filename)\n",
        "    img.save('{}{}{}'.format(path11,'/',os.path.split(filename)[1]))\n",
        "\n",
        "# Carpeta Healthy Potatoes\n",
        "\n",
        "path12 = outPath12\n",
        "\n",
        "if not os.path.exists(path12):\n",
        "    os.makedirs(path12)\n",
        "\n",
        "for filename in glob.glob('/content/drive/MyDrive/potato/Healthy Potatoes Gauss/*.jpg'):\n",
        "    img = Image.open(filename)\n",
        "    img.save('{}{}{}'.format(path12,'/',os.path.split(filename)[1]))"
      ],
      "metadata": {
        "id": "rtQvM-U3-Ynx"
      },
      "execution_count": null,
      "outputs": []
    },
    {
      "cell_type": "code",
      "source": [
        "# Copia archivos filtro Máximo\n",
        "\n",
        "import glob\n",
        "\n",
        "# Carpeta Common Scab\n",
        "path13 = outPath13 #carpeta para guardar imágenes\n",
        "# crea la carpeta de salida si no existe\n",
        "if not os.path.exists(path13):\n",
        "    os.makedirs(path13)\n",
        "\n",
        "# bucle para copiar imágenes\n",
        "\n",
        "for filename in glob.glob('/content/drive/MyDrive/potato/Common Scab Max/*.jpg'): # carpeta de origen\n",
        "    img = Image.open(filename)\n",
        "    # guarda las imágenes en la carpeta de salida\n",
        "    img.save('{}{}{}'.format(path13,'/',os.path.split(filename)[1]))\n",
        "\n",
        "\n",
        "#Carpeta Blackleg\n",
        "path14 = outPath14\n",
        "\n",
        "if not os.path.exists(path14):\n",
        "    os.makedirs(path14)\n",
        "\n",
        "\n",
        "for filename in glob.glob('/content/drive/MyDrive/potato/Blackleg Max/*.jpg'):\n",
        "    img = Image.open(filename)\n",
        "    img.save('{}{}{}'.format(path14,'/',os.path.split(filename)[1]))\n",
        "\n",
        "# Carpeta Dry Rot\n",
        "\n",
        "path15 = outPath15\n",
        "\n",
        "if not os.path.exists(path15):\n",
        "    os.makedirs(path15)\n",
        "\n",
        "\n",
        "for filename in glob.glob('/content/drive/MyDrive/potato/Dry Rot Max/*.jpg'):\n",
        "    img = Image.open(filename)\n",
        "    img.save('{}{}{}'.format(path15,'/',os.path.split(filename)[1]))\n",
        "\n",
        "# Carpeta Healthy Potatoes\n",
        "\n",
        "path16 = outPath16\n",
        "\n",
        "if not os.path.exists(path16):\n",
        "    os.makedirs(path16)\n",
        "\n",
        "for filename in glob.glob('/content/drive/MyDrive/potato/Healthy Potatoes Max/*.jpg'):\n",
        "    img = Image.open(filename)\n",
        "    img.save('{}{}{}'.format(path16,'/',os.path.split(filename)[1]))"
      ],
      "metadata": {
        "id": "MhmPBhW5Ih6R"
      },
      "execution_count": 5,
      "outputs": []
    },
    {
      "cell_type": "code",
      "source": [
        "# Copia archivos filtro Mínimo\n",
        "\n",
        "import glob\n",
        "\n",
        "# Carpeta Common Scab\n",
        "path17 = outPath17 #carpeta para guardar imágenes\n",
        "# crea la carpeta de salida si no existe\n",
        "if not os.path.exists(path17):\n",
        "    os.makedirs(path17)\n",
        "\n",
        "# bucle para copiar imágenes\n",
        "\n",
        "for filename in glob.glob('/content/drive/MyDrive/potato/Common Scab Min/*.jpg'): # carpeta de origen\n",
        "    img = Image.open(filename)\n",
        "    # guarda las imágenes en la carpeta de salida\n",
        "    img.save('{}{}{}'.format(path17,'/',os.path.split(filename)[1]))\n",
        "\n",
        "\n",
        "#Carpeta Blackleg\n",
        "path18 = outPath18\n",
        "\n",
        "if not os.path.exists(path18):\n",
        "    os.makedirs(path18)\n",
        "\n",
        "\n",
        "for filename in glob.glob('/content/drive/MyDrive/potato/Blackleg Min/*.jpg'):\n",
        "    img = Image.open(filename)\n",
        "    img.save('{}{}{}'.format(path18,'/',os.path.split(filename)[1]))\n",
        "\n",
        "# Carpeta Dry Rot\n",
        "\n",
        "path19 = outPath19\n",
        "\n",
        "if not os.path.exists(path19):\n",
        "    os.makedirs(path19)\n",
        "\n",
        "\n",
        "for filename in glob.glob('/content/drive/MyDrive/potato/Dry Rot Min/*.jpg'):\n",
        "    img = Image.open(filename)\n",
        "    img.save('{}{}{}'.format(path19,'/',os.path.split(filename)[1]))\n",
        "\n",
        "# Carpeta Healthy Potatoes\n",
        "\n",
        "path20 = outPath20\n",
        "\n",
        "if not os.path.exists(path20):\n",
        "    os.makedirs(path20)\n",
        "\n",
        "for filename in glob.glob('/content/drive/MyDrive/potato/Healthy Potatoes Min/*.jpg'):\n",
        "    img = Image.open(filename)\n",
        "    img.save('{}{}{}'.format(path20,'/',os.path.split(filename)[1]))"
      ],
      "metadata": {
        "id": "aztsY2sFJRYO"
      },
      "execution_count": 6,
      "outputs": []
    },
    {
      "cell_type": "markdown",
      "source": [
        "## Clasificador Support Vector Machine para dataset sin filtrar"
      ],
      "metadata": {
        "id": "2feqhFCKGTYi"
      }
    },
    {
      "cell_type": "markdown",
      "source": [
        "La determinación del tiempo de procesamiento del clasificador SVM será realizada 15 veces, considerando desde la transformación de las imágenes a arrays hasta completar la predicción de las cuatro clases de papas. El tiempo del procesamiento del 50% de las imágenes será calculado dividiendo el tiempo total por dos."
      ],
      "metadata": {
        "id": "nKMJQfyibRBm"
      }
    },
    {
      "cell_type": "code",
      "source": [
        "Categoría=['blackleg', 'common_scab', 'dry_rot', 'healthy_potato']"
      ],
      "metadata": {
        "id": "9CdKMWeWBugQ"
      },
      "execution_count": 10,
      "outputs": []
    },
    {
      "cell_type": "code",
      "source": [
        "ex_time_nf = []\n",
        "half_time_nf = []\n",
        "\n",
        "j = 1\n",
        "\n",
        "while j < 16:\n",
        "    start = time.perf_counter()\n",
        "\n",
        "    flat_data_arr=[]\n",
        "    target_arr = []\n",
        "    datadir ='/content/drive/MyDrive/potato/data'\n",
        "\n",
        "    for i in Categoría:\n",
        "        print(f'loading... category : {i}')\n",
        "        path=os.path.join(datadir,i)\n",
        "        for img in os.listdir(path):\n",
        "            img_array=imread(os.path.join(path,img))\n",
        "            img_resized=resize(img_array,(200,200,3))\n",
        "            flat_data_arr.append(img_resized.flatten())\n",
        "            target_arr.append(Categoría.index(i))\n",
        "    flat_data=np.array(flat_data_arr)\n",
        "    target=np.array(target_arr)\n",
        "    df_papa=pd.DataFrame(flat_data)\n",
        "    df_papa['Categoría']=target\n",
        "    df_papa\n",
        "\n",
        "    x=df_papa.iloc[:,:-1]\n",
        "    y=df_papa.iloc[:,-1]\n",
        "    x_train,x_test,y_train,y_test=train_test_split(x,y,test_size=0.20,random_state=42)\n",
        "\n",
        "    classifier = SVC(kernel = 'rbf', random_state = 0)\n",
        "    classifier.fit(x_train, y_train)\n",
        "\n",
        "    y_pred = classifier.predict(x_test)\n",
        "\n",
        "\n",
        "    end = time.perf_counter()\n",
        "    total = end - start\n",
        "    print(f\"Elapsed: {(total)} s\")\n",
        "    ex_time_nf.append(total)\n",
        "    half_t = (total/2)\n",
        "    half_time_nf.append(half_t)\n",
        "    j +=1"
      ],
      "metadata": {
        "colab": {
          "base_uri": "https://localhost:8080/"
        },
        "id": "Ba-EyGQnZJ0h",
        "outputId": "dfed8f32-9d6b-4fcb-de7e-4d4b09c5fdbe"
      },
      "execution_count": 11,
      "outputs": [
        {
          "output_type": "stream",
          "name": "stdout",
          "text": [
            "loading... category : blackleg\n",
            "loading... category : common_scab\n",
            "loading... category : dry_rot\n",
            "loading... category : healthy_potato\n",
            "Elapsed: 93.23178426699997 s\n",
            "loading... category : blackleg\n",
            "loading... category : common_scab\n",
            "loading... category : dry_rot\n",
            "loading... category : healthy_potato\n",
            "Elapsed: 18.206557576999785 s\n",
            "loading... category : blackleg\n",
            "loading... category : common_scab\n",
            "loading... category : dry_rot\n",
            "loading... category : healthy_potato\n",
            "Elapsed: 18.084052337999765 s\n",
            "loading... category : blackleg\n",
            "loading... category : common_scab\n",
            "loading... category : dry_rot\n",
            "loading... category : healthy_potato\n",
            "Elapsed: 31.186815162999665 s\n",
            "loading... category : blackleg\n",
            "loading... category : common_scab\n",
            "loading... category : dry_rot\n",
            "loading... category : healthy_potato\n",
            "Elapsed: 26.6975123039997 s\n",
            "loading... category : blackleg\n",
            "loading... category : common_scab\n",
            "loading... category : dry_rot\n",
            "loading... category : healthy_potato\n",
            "Elapsed: 49.86281624200001 s\n",
            "loading... category : blackleg\n",
            "loading... category : common_scab\n",
            "loading... category : dry_rot\n",
            "loading... category : healthy_potato\n",
            "Elapsed: 58.017070973000045 s\n",
            "loading... category : blackleg\n",
            "loading... category : common_scab\n",
            "loading... category : dry_rot\n",
            "loading... category : healthy_potato\n",
            "Elapsed: 42.72912104600027 s\n",
            "loading... category : blackleg\n",
            "loading... category : common_scab\n",
            "loading... category : dry_rot\n",
            "loading... category : healthy_potato\n",
            "Elapsed: 46.85134173300003 s\n",
            "loading... category : blackleg\n",
            "loading... category : common_scab\n",
            "loading... category : dry_rot\n",
            "loading... category : healthy_potato\n",
            "Elapsed: 21.562190787999953 s\n",
            "loading... category : blackleg\n",
            "loading... category : common_scab\n",
            "loading... category : dry_rot\n",
            "loading... category : healthy_potato\n",
            "Elapsed: 43.84955938100029 s\n",
            "loading... category : blackleg\n",
            "loading... category : common_scab\n",
            "loading... category : dry_rot\n",
            "loading... category : healthy_potato\n",
            "Elapsed: 45.34042688200043 s\n",
            "loading... category : blackleg\n",
            "loading... category : common_scab\n",
            "loading... category : dry_rot\n",
            "loading... category : healthy_potato\n",
            "Elapsed: 28.926377906000198 s\n",
            "loading... category : blackleg\n",
            "loading... category : common_scab\n",
            "loading... category : dry_rot\n",
            "loading... category : healthy_potato\n",
            "Elapsed: 46.134515530000044 s\n",
            "loading... category : blackleg\n",
            "loading... category : common_scab\n",
            "loading... category : dry_rot\n",
            "loading... category : healthy_potato\n",
            "Elapsed: 47.19831591100001 s\n"
          ]
        }
      ]
    },
    {
      "cell_type": "code",
      "source": [
        "print(\"Tiempo mínimo \", min(ex_time_nf), 's')\n",
        "print(\"Tiempo máximo: \", max(ex_time_nf), 's')\n",
        "print(\"Tiempo promedio: \", sum(ex_time_nf)/len(ex_time_nf), 's')\n",
        "print(\"Desviación estándar del tiempo: \", np.std(ex_time_nf), 's')"
      ],
      "metadata": {
        "colab": {
          "base_uri": "https://localhost:8080/"
        },
        "id": "xuQ1Vgt4B3n6",
        "outputId": "da704b3a-9d5f-4b58-8d89-bbcb6d43551a"
      },
      "execution_count": 58,
      "outputs": [
        {
          "output_type": "stream",
          "name": "stdout",
          "text": [
            "Tiempo mínimo  18.084052337999765 s\n",
            "Tiempo máximo:  93.23178426699997 s\n",
            "Tiempo promedio:  41.191897202733344 s\n",
            "Desviación estándar del tiempo:  18.427966179565946 s\n"
          ]
        }
      ]
    },
    {
      "cell_type": "code",
      "source": [
        "print(\"Tiempo mínimo mitad ejecución \", min(half_time_nf), 's')\n",
        "print(\"Tiempo máximo mitad ejecución: \", max(half_time_nf), 's')\n",
        "print(\"Tiempo promedio mitad ejecución: \", sum(half_time_nf)/len(half_time_nf), 's')\n",
        "print(\"Desviación estándar del tiempo mitad ejecución: \", np.std(half_time_nf), 's')"
      ],
      "metadata": {
        "colab": {
          "base_uri": "https://localhost:8080/"
        },
        "id": "6niwd9SMCBkM",
        "outputId": "b14b7092-7108-4f15-ca63-04e95da3aa38"
      },
      "execution_count": 59,
      "outputs": [
        {
          "output_type": "stream",
          "name": "stdout",
          "text": [
            "Tiempo mínimo mitad ejecución  9.042026168999882 s\n",
            "Tiempo máximo mitad ejecución:  46.61589213349998 s\n",
            "Tiempo promedio mitad ejecución:  20.595948601366672 s\n",
            "Desviación estándar del tiempo mitad ejecución:  9.213983089782973 s\n"
          ]
        }
      ]
    },
    {
      "cell_type": "code",
      "source": [
        "y_pred"
      ],
      "metadata": {
        "colab": {
          "base_uri": "https://localhost:8080/"
        },
        "id": "mdHPlcSCGyFc",
        "outputId": "6ec51b2d-9955-4a8f-af24-dcb7c4e5f498"
      },
      "execution_count": 14,
      "outputs": [
        {
          "output_type": "execute_result",
          "data": {
            "text/plain": [
              "array([3, 3, 3, 2, 2, 2, 0, 3, 0, 1, 0, 3, 3, 3, 3, 3, 1, 0, 3, 1, 2, 2,\n",
              "       0, 3, 2, 2, 2, 0, 2, 1, 0, 3, 3, 1, 3, 3, 1, 3, 3, 1, 3, 2, 2, 1,\n",
              "       1, 1, 3, 0, 2, 2, 3, 0, 1])"
            ]
          },
          "metadata": {},
          "execution_count": 14
        }
      ]
    },
    {
      "cell_type": "code",
      "source": [
        "import warnings\n",
        "warnings.filterwarnings(\"ignore\")\n",
        "\n",
        "cm = confusion_matrix(y_test, y_pred)\n",
        "fig, ax = plt.subplots(figsize=(5, 5))\n",
        "ax.matshow(cm, cmap=plt.cm.Oranges, alpha=0.3)\n",
        "for i in range(cm.shape[0]):\n",
        "    for j in range(cm.shape[1]):\n",
        "        ax.text(x=j, y=i,s=cm[i, j], va='center', ha='center', size='xx-large')\n",
        "\n",
        "labels=['blackleg', 'common scab', 'dry rot', 'healthy']\n",
        "ax.set_xticklabels([''] + labels)\n",
        "ax.set_yticklabels([''] + labels)\n",
        "plt.xlabel('Predicciones', fontsize=18)\n",
        "plt.ylabel('Etiquetas verdaderas', fontsize=18)\n",
        "plt.title('Matriz de confusión', fontsize=18)\n",
        "plt.show()"
      ],
      "metadata": {
        "colab": {
          "base_uri": "https://localhost:8080/",
          "height": 507
        },
        "id": "8BjEaOuxDlwO",
        "outputId": "155c9129-3901-4621-a6b1-7f982e84e97b"
      },
      "execution_count": 29,
      "outputs": [
        {
          "output_type": "display_data",
          "data": {
            "text/plain": [
              "<Figure size 500x500 with 1 Axes>"
            ],
            "image/png": "[encoded data removed]"
          },
          "metadata": {}
        }
      ]
    },
    {
      "cell_type": "code",
      "source": [
        "print('Accuracy  :', accuracy_score(y_test, y_pred)*100 ,\"%\")\n",
        "print('Precision :' , precision_score(y_test, y_pred, average='weighted')*100 ,\"%\")\n",
        "print('Recall    :', recall_score(y_test, y_pred, average='weighted')*100 ,\"%\")\n",
        "print('F1 Score  :',f1_score(y_test, y_pred, average='weighted')*100 ,\"%\")"
      ],
      "metadata": {
        "colab": {
          "base_uri": "https://localhost:8080/"
        },
        "id": "AhJQDwOQEBUH",
        "outputId": "e2c845ac-5f12-49f4-b213-390a1acbec61"
      },
      "execution_count": 30,
      "outputs": [
        {
          "output_type": "stream",
          "name": "stdout",
          "text": [
            "Accuracy  : 69.81132075471697 %\n",
            "Precision : 70.30742842063596 %\n",
            "Recall    : 69.81132075471697 %\n",
            "F1 Score  : 69.1676704626059 %\n"
          ]
        }
      ]
    },
    {
      "cell_type": "markdown",
      "source": [
        "## Clasificador Support Vector Machine para dataset filtro Gaussiano"
      ],
      "metadata": {
        "id": "sByS491yGgli"
      }
    },
    {
      "cell_type": "markdown",
      "source": [
        "La determinación del tiempo de procesamiento del clasificador SVM será realizada 15 veces, considerando desde la transformación de las imágenes a arrays hasta completar la predicción de las cuatro clases de papas. El tiempo del procesamiento del 50% de las imágenes será calculado dividiendo el tiempo total por dos."
      ],
      "metadata": {
        "id": "HSxl5SAUYZjl"
      }
    },
    {
      "cell_type": "code",
      "source": [
        "ex_time = []\n",
        "half_time = []\n",
        "\n",
        "j = 1\n",
        "\n",
        "while j < 16:\n",
        "    start = time.perf_counter()\n",
        "\n",
        "    flat_data_arr_g=[]\n",
        "    target_arr_g=[]\n",
        "    datadir_g='/content/drive/MyDrive/potato/data_g'\n",
        "\n",
        "    for i in Categoría:\n",
        "        print(f'loading... category : {i}')\n",
        "        path=os.path.join(datadir_g,i)\n",
        "        for img in os.listdir(path):\n",
        "            img_array=imread(os.path.join(path,img))\n",
        "            img_resized=resize(img_array,(200,200,3))\n",
        "            flat_data_arr_g.append(img_resized.flatten())\n",
        "            target_arr_g.append(Categoría.index(i))\n",
        "    flat_data_g=np.array(flat_data_arr_g)\n",
        "    target_g=np.array(target_arr_g)\n",
        "    df_papa_g=pd.DataFrame(flat_data_g)\n",
        "    df_papa_g['Categoría']=target_g\n",
        "    df_papa_g\n",
        "\n",
        "    x_g=df_papa_g.iloc[:,:-1]\n",
        "    y_g=df_papa_g.iloc[:,-1]\n",
        "    x_g_train,x_g_test,y_g_train,y_g_test=train_test_split(x_g,y_g,test_size=0.20,random_state=42)\n",
        "\n",
        "    classifier_g = SVC(kernel = 'rbf', random_state = 0)\n",
        "    classifier_g.fit(x_g_train, y_g_train)\n",
        "\n",
        "    y_g_pred = classifier_g.predict(x_g_test)\n",
        "\n",
        "\n",
        "    end = time.perf_counter()\n",
        "    total = end - start\n",
        "    print(f\"Elapsed: {(total)} s\")\n",
        "    ex_time.append(total)\n",
        "    half_t = (total/2)\n",
        "    half_time.append(half_t)\n",
        "    j +=1"
      ],
      "metadata": {
        "colab": {
          "base_uri": "https://localhost:8080/"
        },
        "id": "AXxUor70HgJH",
        "outputId": "0556fa3e-f702-403f-9ab1-949783ac6b39"
      },
      "execution_count": 31,
      "outputs": [
        {
          "output_type": "stream",
          "name": "stdout",
          "text": [
            "loading... category : blackleg\n",
            "loading... category : common_scab\n",
            "loading... category : dry_rot\n",
            "loading... category : healthy_potato\n",
            "Elapsed: 118.76881822699988 s\n",
            "loading... category : blackleg\n",
            "loading... category : common_scab\n",
            "loading... category : dry_rot\n",
            "loading... category : healthy_potato\n",
            "Elapsed: 18.18719168000007 s\n",
            "loading... category : blackleg\n",
            "loading... category : common_scab\n",
            "loading... category : dry_rot\n",
            "loading... category : healthy_potato\n",
            "Elapsed: 15.901150559000143 s\n",
            "loading... category : blackleg\n",
            "loading... category : common_scab\n",
            "loading... category : dry_rot\n",
            "loading... category : healthy_potato\n",
            "Elapsed: 19.62176882699987 s\n",
            "loading... category : blackleg\n",
            "loading... category : common_scab\n",
            "loading... category : dry_rot\n",
            "loading... category : healthy_potato\n",
            "Elapsed: 18.261704919000294 s\n",
            "loading... category : blackleg\n",
            "loading... category : common_scab\n",
            "loading... category : dry_rot\n",
            "loading... category : healthy_potato\n",
            "Elapsed: 18.40187686299987 s\n",
            "loading... category : blackleg\n",
            "loading... category : common_scab\n",
            "loading... category : dry_rot\n",
            "loading... category : healthy_potato\n",
            "Elapsed: 17.953291745000115 s\n",
            "loading... category : blackleg\n",
            "loading... category : common_scab\n",
            "loading... category : dry_rot\n",
            "loading... category : healthy_potato\n",
            "Elapsed: 26.202136111000073 s\n",
            "loading... category : blackleg\n",
            "loading... category : common_scab\n",
            "loading... category : dry_rot\n",
            "loading... category : healthy_potato\n",
            "Elapsed: 30.484056324999983 s\n",
            "loading... category : blackleg\n",
            "loading... category : common_scab\n",
            "loading... category : dry_rot\n",
            "loading... category : healthy_potato\n",
            "Elapsed: 29.266091575000246 s\n",
            "loading... category : blackleg\n",
            "loading... category : common_scab\n",
            "loading... category : dry_rot\n",
            "loading... category : healthy_potato\n",
            "Elapsed: 18.88735971699998 s\n",
            "loading... category : blackleg\n",
            "loading... category : common_scab\n",
            "loading... category : dry_rot\n",
            "loading... category : healthy_potato\n",
            "Elapsed: 21.643859842000438 s\n",
            "loading... category : blackleg\n",
            "loading... category : common_scab\n",
            "loading... category : dry_rot\n",
            "loading... category : healthy_potato\n",
            "Elapsed: 26.004710371999863 s\n",
            "loading... category : blackleg\n",
            "loading... category : common_scab\n",
            "loading... category : dry_rot\n",
            "loading... category : healthy_potato\n",
            "Elapsed: 30.387407133000124 s\n",
            "loading... category : blackleg\n",
            "loading... category : common_scab\n",
            "loading... category : dry_rot\n",
            "loading... category : healthy_potato\n",
            "Elapsed: 28.603595938000126 s\n"
          ]
        }
      ]
    },
    {
      "cell_type": "code",
      "source": [
        "print(\"Tiempo mínimo \", min(ex_time), 's')\n",
        "print(\"Tiempo máximo: \", max(ex_time), 's')\n",
        "print(\"Tiempo promedio: \", sum(ex_time)/len(ex_time),'s')\n",
        "print(\"Desviación estándar del tiempo: \", np.std(ex_time), 's')"
      ],
      "metadata": {
        "colab": {
          "base_uri": "https://localhost:8080/"
        },
        "id": "jdBWjXnFW7dS",
        "outputId": "659ca8e5-6711-42d4-af6c-40171694dc52"
      },
      "execution_count": 67,
      "outputs": [
        {
          "output_type": "stream",
          "name": "stdout",
          "text": [
            "Tiempo mínimo  15.901150559000143 s\n",
            "Tiempo máximo:  118.76881822699988 s\n",
            "Tiempo promedio:  29.238334655533404 s\n",
            "Desviación estándar del tiempo:  24.442082412815964 s\n"
          ]
        }
      ]
    },
    {
      "cell_type": "code",
      "source": [
        "print(\"Tiempo mínimo mitad ejecución \", min(half_time), 's')\n",
        "print(\"Tiempo máximo mitad ejecución: \", max(half_time), 's')\n",
        "print(\"Tiempo promedio mitad ejecución: \", sum(half_time)/len(half_time), 's')\n",
        "print(\"Desviación estándar del tiempo mitad ejecución: \", np.std(half_time), 's')"
      ],
      "metadata": {
        "colab": {
          "base_uri": "https://localhost:8080/"
        },
        "id": "VbVovkU4Xq6p",
        "outputId": "a1844a3b-71a1-43c4-824d-8b4ca0de92e8"
      },
      "execution_count": 66,
      "outputs": [
        {
          "output_type": "stream",
          "name": "stdout",
          "text": [
            "Tiempo mínimo mitad ejecución  7.950575279500072 s\n",
            "Tiempo máximo mitad ejecución:  59.38440911349994 s\n",
            "Tiempo promedio mitad ejecución:  14.619167327766702 s\n",
            "Desviación estándar del tiempo mitad ejecución:  12.221041206407982 s\n"
          ]
        }
      ]
    },
    {
      "cell_type": "code",
      "source": [
        "y_g_pred"
      ],
      "metadata": {
        "colab": {
          "base_uri": "https://localhost:8080/"
        },
        "id": "fty673k-G2N4",
        "outputId": "dac15a3e-bc36-478d-e6aa-66f7d55ad145"
      },
      "execution_count": 34,
      "outputs": [
        {
          "output_type": "execute_result",
          "data": {
            "text/plain": [
              "array([3, 3, 3, 2, 0, 0, 1, 3, 0, 2, 1, 3, 0, 3, 3, 3, 1, 0, 3, 1, 1, 2,\n",
              "       2, 3, 1, 1, 0, 2, 0, 1, 2, 3, 3, 1, 0, 2, 2, 3, 3, 2, 3, 2, 1, 2,\n",
              "       0, 0, 3, 0, 1, 1, 3, 2, 0])"
            ]
          },
          "metadata": {},
          "execution_count": 34
        }
      ]
    },
    {
      "cell_type": "code",
      "source": [
        "cm_g = confusion_matrix(y_g_test, y_g_pred)\n",
        "fig, ax = plt.subplots(figsize=(5, 5))\n",
        "ax.matshow(cm_g, cmap=plt.cm.Blues, alpha=0.3)\n",
        "for i in range(cm_g.shape[0]):\n",
        "    for j in range(cm_g.shape[1]):\n",
        "        ax.text(x=j, y=i,s=cm[i, j], va='center', ha='center', size='xx-large')\n",
        "\n",
        "labels=['blackleg', 'common scab', 'dry rot', 'healthy']\n",
        "ax.set_xticklabels([''] + labels)\n",
        "ax.set_yticklabels([''] + labels)\n",
        "plt.xlabel('Predicciones', fontsize=18)\n",
        "plt.ylabel('Etiquetas verdaderas', fontsize=18)\n",
        "plt.title('Matriz de confusión', fontsize=18)\n",
        "plt.show()"
      ],
      "metadata": {
        "colab": {
          "base_uri": "https://localhost:8080/",
          "height": 507
        },
        "id": "Pe-T00e7H9d9",
        "outputId": "40a72225-8d5b-41a3-96b6-42ea03565f5d"
      },
      "execution_count": 35,
      "outputs": [
        {
          "output_type": "display_data",
          "data": {
            "text/plain": [
              "<Figure size 500x500 with 1 Axes>"
            ],
            "image/png": "[encoded data removed]"
          },
          "metadata": {}
        }
      ]
    },
    {
      "cell_type": "code",
      "source": [
        "print('Accuracy  :', accuracy_score(y_g_test, y_g_pred)*100 ,\"%\")\n",
        "print('Precision :' , precision_score(y_g_test, y_g_pred, average='weighted')*100 ,\"%\")\n",
        "print('Recall    :', recall_score(y_g_test, y_g_pred, average='weighted')*100 ,\"%\")\n",
        "print('F1 Score  :',f1_score(y_g_test, y_g_pred, average='weighted')*100 ,\"%\")"
      ],
      "metadata": {
        "colab": {
          "base_uri": "https://localhost:8080/"
        },
        "id": "eNKnwnLyITkI",
        "outputId": "331f8edd-dffb-4122-d230-6114e68393b4"
      },
      "execution_count": 36,
      "outputs": [
        {
          "output_type": "stream",
          "name": "stdout",
          "text": [
            "Accuracy  : 60.37735849056604 %\n",
            "Precision : 62.735849056603776 %\n",
            "Recall    : 60.37735849056604 %\n",
            "F1 Score  : 61.356002488077955 %\n"
          ]
        }
      ]
    },
    {
      "cell_type": "markdown",
      "source": [
        "## Clasificador Support Vector Machine para dataset filtro Sobel"
      ],
      "metadata": {
        "id": "z1DUG9G5Gjs-"
      }
    },
    {
      "cell_type": "markdown",
      "source": [
        "La determinación del tiempo de procesamiento del clasificador SVM será realizada 15 veces, considerando desde la transformación de las imágenes a arrays hasta completar la predicción de las cuatro clases de papas. El tiempo del procesamiento del 50% de las imágenes será calculado dividiendo el tiempo total por dos."
      ],
      "metadata": {
        "id": "KxX1W7_Lc4y_"
      }
    },
    {
      "cell_type": "code",
      "source": [
        "ex_time_s = []\n",
        "half_time_s = []\n",
        "\n",
        "j = 1\n",
        "\n",
        "while j < 16:\n",
        "    start = time.perf_counter()\n",
        "\n",
        "    flat_data_arr_s=[]\n",
        "    target_arr_s=[]\n",
        "    datadir_s='/content/drive/MyDrive/potato/data_s'\n",
        "\n",
        "    for i in Categoría:\n",
        "        print(f'loading... category : {i}')\n",
        "        path=os.path.join(datadir_s,i)\n",
        "        for img in os.listdir(path):\n",
        "            img_array=imread(os.path.join(path,img))\n",
        "            img_resized=resize(img_array,(200,200,3))\n",
        "            flat_data_arr_s.append(img_resized.flatten())\n",
        "            target_arr_s.append(Categoría.index(i))\n",
        "    flat_data_s=np.array(flat_data_arr_s)\n",
        "    target_s=np.array(target_arr_s)\n",
        "    df_papa_s=pd.DataFrame(flat_data_s)\n",
        "    df_papa_s['Categoría']=target_s\n",
        "    df_papa_s\n",
        "\n",
        "    x_s=df_papa_s.iloc[:,:-1]\n",
        "    y_s=df_papa_s.iloc[:,-1]\n",
        "    x_s_train,x_s_test,y_s_train,y_s_test=train_test_split(x_s,y_s,test_size=0.20,random_state=42)\n",
        "\n",
        "    classifier_s = SVC(kernel = 'rbf', random_state = 0)\n",
        "    classifier_s.fit(x_s_train, y_s_train)\n",
        "\n",
        "    y_s_pred = classifier_s.predict(x_s_test)\n",
        "\n",
        "\n",
        "    end = time.perf_counter()\n",
        "    total = end - start\n",
        "    print(f\"Elapsed: {(total)} s\")\n",
        "    ex_time_s.append(total)\n",
        "    half_t = (total/2)\n",
        "    half_time_s.append(half_t)\n",
        "    j +=1"
      ],
      "metadata": {
        "colab": {
          "base_uri": "https://localhost:8080/"
        },
        "id": "oAMRE4FEbVd5",
        "outputId": "f80ad4b5-41ab-4afb-cd56-764dcc693eed"
      },
      "execution_count": 37,
      "outputs": [
        {
          "output_type": "stream",
          "name": "stdout",
          "text": [
            "loading... category : blackleg\n",
            "loading... category : common_scab\n",
            "loading... category : dry_rot\n",
            "loading... category : healthy_potato\n",
            "Elapsed: 112.53506892799987 s\n",
            "loading... category : blackleg\n",
            "loading... category : common_scab\n",
            "loading... category : dry_rot\n",
            "loading... category : healthy_potato\n",
            "Elapsed: 17.78858934500022 s\n",
            "loading... category : blackleg\n",
            "loading... category : common_scab\n",
            "loading... category : dry_rot\n",
            "loading... category : healthy_potato\n",
            "Elapsed: 17.002295441000115 s\n",
            "loading... category : blackleg\n",
            "loading... category : common_scab\n",
            "loading... category : dry_rot\n",
            "loading... category : healthy_potato\n",
            "Elapsed: 21.776311388999602 s\n",
            "loading... category : blackleg\n",
            "loading... category : common_scab\n",
            "loading... category : dry_rot\n",
            "loading... category : healthy_potato\n",
            "Elapsed: 23.32353158399974 s\n",
            "loading... category : blackleg\n",
            "loading... category : common_scab\n",
            "loading... category : dry_rot\n",
            "loading... category : healthy_potato\n",
            "Elapsed: 20.72342556500007 s\n",
            "loading... category : blackleg\n",
            "loading... category : common_scab\n",
            "loading... category : dry_rot\n",
            "loading... category : healthy_potato\n",
            "Elapsed: 29.836646933999873 s\n",
            "loading... category : blackleg\n",
            "loading... category : common_scab\n",
            "loading... category : dry_rot\n",
            "loading... category : healthy_potato\n",
            "Elapsed: 20.735781692000273 s\n",
            "loading... category : blackleg\n",
            "loading... category : common_scab\n",
            "loading... category : dry_rot\n",
            "loading... category : healthy_potato\n",
            "Elapsed: 30.016728473000512 s\n",
            "loading... category : blackleg\n",
            "loading... category : common_scab\n",
            "loading... category : dry_rot\n",
            "loading... category : healthy_potato\n",
            "Elapsed: 17.352972082000633 s\n",
            "loading... category : blackleg\n",
            "loading... category : common_scab\n",
            "loading... category : dry_rot\n",
            "loading... category : healthy_potato\n",
            "Elapsed: 17.1384008619998 s\n",
            "loading... category : blackleg\n",
            "loading... category : common_scab\n",
            "loading... category : dry_rot\n",
            "loading... category : healthy_potato\n",
            "Elapsed: 25.492410021999603 s\n",
            "loading... category : blackleg\n",
            "loading... category : common_scab\n",
            "loading... category : dry_rot\n",
            "loading... category : healthy_potato\n",
            "Elapsed: 20.333414790999996 s\n",
            "loading... category : blackleg\n",
            "loading... category : common_scab\n",
            "loading... category : dry_rot\n",
            "loading... category : healthy_potato\n",
            "Elapsed: 23.412212318000456 s\n",
            "loading... category : blackleg\n",
            "loading... category : common_scab\n",
            "loading... category : dry_rot\n",
            "loading... category : healthy_potato\n",
            "Elapsed: 19.863520801999584 s\n"
          ]
        }
      ]
    },
    {
      "cell_type": "code",
      "source": [
        "print(\"Tiempo mínimo \", min(ex_time_s), 's')\n",
        "print(\"Tiempo máximo: \", max(ex_time_s), 's')\n",
        "print(\"Tiempo promedio: \", sum(ex_time_nf)/len(ex_time_s), 's')\n",
        "print(\"Desviación estándar del tiempo: \", np.std(ex_time_s), 's')"
      ],
      "metadata": {
        "colab": {
          "base_uri": "https://localhost:8080/"
        },
        "id": "Jl_E6cErIp-r",
        "outputId": "10c1e768-80d9-436b-d2d0-0af3816413f0"
      },
      "execution_count": 65,
      "outputs": [
        {
          "output_type": "stream",
          "name": "stdout",
          "text": [
            "Tiempo mínimo  17.002295441000115 s\n",
            "Tiempo máximo:  112.53506892799987 s\n",
            "Tiempo promedio:  41.191897202733344 s\n",
            "Desviación estándar del tiempo:  22.990338824329218 s\n"
          ]
        }
      ]
    },
    {
      "cell_type": "code",
      "source": [
        "print(\"Tiempo mínimo mitad ejecución \", min(half_time_s), 's')\n",
        "print(\"Tiempo máximo mitad ejecución: \", max(half_time_s), 's')\n",
        "print(\"Tiempo promedio mitad ejecución: \", sum(half_time_s)/len(half_time_s), 's')\n",
        "print(\"Desviación estándar del tiempo mitad ejecución: \", np.std(half_time_s), 's')"
      ],
      "metadata": {
        "colab": {
          "base_uri": "https://localhost:8080/"
        },
        "id": "v--rVzb3LATy",
        "outputId": "cd28279e-0163-4ae8-d31f-203d988e1cb5"
      },
      "execution_count": 64,
      "outputs": [
        {
          "output_type": "stream",
          "name": "stdout",
          "text": [
            "Tiempo mínimo mitad ejecución  8.501147720500057 s\n",
            "Tiempo máximo mitad ejecución:  56.26753446399994 s\n",
            "Tiempo promedio mitad ejecución:  13.911043674266677 s\n",
            "Desviación estándar del tiempo mitad ejecución:  11.495169412164609 s\n"
          ]
        }
      ]
    },
    {
      "cell_type": "code",
      "source": [
        "y_s_pred"
      ],
      "metadata": {
        "colab": {
          "base_uri": "https://localhost:8080/"
        },
        "id": "qBMk3apAG8G-",
        "outputId": "c8f46c8f-0742-4bee-a6d8-d6ade779a45e"
      },
      "execution_count": 40,
      "outputs": [
        {
          "output_type": "execute_result",
          "data": {
            "text/plain": [
              "array([3, 3, 3, 1, 1, 2, 2, 3, 0, 1, 0, 3, 0, 3, 3, 3, 0, 0, 3, 1, 2, 2,\n",
              "       1, 3, 1, 2, 0, 1, 2, 0, 0, 3, 3, 0, 1, 3, 0, 3, 3, 0, 3, 0, 1, 0,\n",
              "       0, 2, 3, 0, 0, 1, 3, 2, 0])"
            ]
          },
          "metadata": {},
          "execution_count": 40
        }
      ]
    },
    {
      "cell_type": "code",
      "source": [
        "cm_s = confusion_matrix(y_s_test, y_s_pred)\n",
        "fig, ax = plt.subplots(figsize=(5, 5))\n",
        "ax.matshow(cm_s, cmap=plt.cm.Greens, alpha=0.3)\n",
        "for i in range(cm_s.shape[0]):\n",
        "    for j in range(cm_s.shape[1]):\n",
        "        ax.text(x=j, y=i,s=cm[i, j], va='center', ha='center', size='xx-large')\n",
        "\n",
        "labels=['blackleg', 'common scab', 'dry rot', 'healthy']\n",
        "ax.set_xticklabels([''] + labels)\n",
        "ax.set_yticklabels([''] + labels)\n",
        "plt.xlabel('Predicciones', fontsize=18)\n",
        "plt.ylabel('Etiquetas verdaderas', fontsize=18)\n",
        "plt.title('Matriz de confusión', fontsize=18)\n",
        "plt.show()"
      ],
      "metadata": {
        "colab": {
          "base_uri": "https://localhost:8080/",
          "height": 507
        },
        "id": "FTxExk-kMEWm",
        "outputId": "eb86a868-66fa-49f7-8010-836026db50de"
      },
      "execution_count": 41,
      "outputs": [
        {
          "output_type": "display_data",
          "data": {
            "text/plain": [
              "<Figure size 500x500 with 1 Axes>"
            ],
            "image/png": "[encoded data removed]"
          },
          "metadata": {}
        }
      ]
    },
    {
      "cell_type": "code",
      "source": [
        "print('Accuracy  :', accuracy_score(y_s_test, y_s_pred)*100 ,\"%\")\n",
        "print('Precision :' , precision_score(y_s_test, y_s_pred, average='weighted')*100 ,\"%\")\n",
        "print('Recall    :', recall_score(y_s_test, y_s_pred, average='weighted')*100 ,\"%\")\n",
        "print('F1 Score  :',f1_score(y_s_test, y_s_pred, average='weighted')*100 ,\"%\")"
      ],
      "metadata": {
        "colab": {
          "base_uri": "https://localhost:8080/"
        },
        "id": "3ju0G4tWMSRE",
        "outputId": "531d3b07-590c-473c-d2c7-e6a1f6ad88b1"
      },
      "execution_count": 42,
      "outputs": [
        {
          "output_type": "stream",
          "name": "stdout",
          "text": [
            "Accuracy  : 77.35849056603774 %\n",
            "Precision : 77.98834628190899 %\n",
            "Recall    : 77.35849056603774 %\n",
            "F1 Score  : 76.76910712235447 %\n"
          ]
        }
      ]
    },
    {
      "cell_type": "markdown",
      "source": [
        "## Clasificador Support Vector Machine para dataset filtro Máximo\n",
        "La determinación del tiempo de procesamiento del clasificador SVM será realizada 15 veces, considerando desde la transformación de las imágenes a arrays hasta completar la predicción de las cuatro clases de papas. El tiempo del procesamiento del 50% de las imágenes será calculado dividiendo el tiempo total por dos."
      ],
      "metadata": {
        "id": "8xkM_dFtKHvN"
      }
    },
    {
      "cell_type": "code",
      "source": [
        "ex_time_max = []\n",
        "half_time_max = []\n",
        "\n",
        "j = 1\n",
        "\n",
        "while j < 16:\n",
        "    start = time.perf_counter()\n",
        "\n",
        "    flat_data_arr_max=[]\n",
        "    target_arr_max=[]\n",
        "    datadir_max='/content/drive/MyDrive/potato/data_max'\n",
        "\n",
        "    for i in Categoría:\n",
        "        print(f'loading... category : {i}')\n",
        "        path=os.path.join(datadir_s,i)\n",
        "        for img in os.listdir(path):\n",
        "            img_array=imread(os.path.join(path,img))\n",
        "            img_resized=resize(img_array,(200,200,3))\n",
        "            flat_data_arr_max.append(img_resized.flatten())\n",
        "            target_arr_max.append(Categoría.index(i))\n",
        "    flat_data_max=np.array(flat_data_arr_max)\n",
        "    target_max=np.array(target_arr_max)\n",
        "    df_papa_max=pd.DataFrame(flat_data_max)\n",
        "    df_papa_max['Categoría']=target_max\n",
        "    df_papa_max\n",
        "\n",
        "    x_max=df_papa_max.iloc[:,:-1]\n",
        "    y_max=df_papa_max.iloc[:,-1]\n",
        "    x_max_train,x_max_test,y_max_train,y_max_test=train_test_split(x_max,y_max,test_size=0.20,random_state=42)\n",
        "\n",
        "    classifier_max = SVC(kernel = 'rbf', random_state = 0)\n",
        "    classifier_max.fit(x_max_train, y_max_train)\n",
        "\n",
        "    y_max_pred = classifier_max.predict(x_max_test)\n",
        "\n",
        "\n",
        "    end = time.perf_counter()\n",
        "    total = end - start\n",
        "    print(f\"Elapsed: {(total)} s\")\n",
        "    ex_time_max.append(total)\n",
        "    half_t = (total/2)\n",
        "    half_time_max.append(half_t)\n",
        "    j +=1"
      ],
      "metadata": {
        "colab": {
          "base_uri": "https://localhost:8080/"
        },
        "id": "_efrboouKfy1",
        "outputId": "8233075c-8c19-4aa9-b90c-cd79745839b2"
      },
      "execution_count": 43,
      "outputs": [
        {
          "output_type": "stream",
          "name": "stdout",
          "text": [
            "loading... category : blackleg\n",
            "loading... category : common_scab\n",
            "loading... category : dry_rot\n",
            "loading... category : healthy_potato\n",
            "Elapsed: 28.111458730000777 s\n",
            "loading... category : blackleg\n",
            "loading... category : common_scab\n",
            "loading... category : dry_rot\n",
            "loading... category : healthy_potato\n",
            "Elapsed: 27.1614351420003 s\n",
            "loading... category : blackleg\n",
            "loading... category : common_scab\n",
            "loading... category : dry_rot\n",
            "loading... category : healthy_potato\n",
            "Elapsed: 15.9373111470004 s\n",
            "loading... category : blackleg\n",
            "loading... category : common_scab\n",
            "loading... category : dry_rot\n",
            "loading... category : healthy_potato\n",
            "Elapsed: 14.702288280000175 s\n",
            "loading... category : blackleg\n",
            "loading... category : common_scab\n",
            "loading... category : dry_rot\n",
            "loading... category : healthy_potato\n",
            "Elapsed: 14.764180348999616 s\n",
            "loading... category : blackleg\n",
            "loading... category : common_scab\n",
            "loading... category : dry_rot\n",
            "loading... category : healthy_potato\n",
            "Elapsed: 24.69890783900064 s\n",
            "loading... category : blackleg\n",
            "loading... category : common_scab\n",
            "loading... category : dry_rot\n",
            "loading... category : healthy_potato\n",
            "Elapsed: 26.04361152799993 s\n",
            "loading... category : blackleg\n",
            "loading... category : common_scab\n",
            "loading... category : dry_rot\n",
            "loading... category : healthy_potato\n",
            "Elapsed: 21.510619052999573 s\n",
            "loading... category : blackleg\n",
            "loading... category : common_scab\n",
            "loading... category : dry_rot\n",
            "loading... category : healthy_potato\n",
            "Elapsed: 23.014608763999604 s\n",
            "loading... category : blackleg\n",
            "loading... category : common_scab\n",
            "loading... category : dry_rot\n",
            "loading... category : healthy_potato\n",
            "Elapsed: 18.283733196999492 s\n",
            "loading... category : blackleg\n",
            "loading... category : common_scab\n",
            "loading... category : dry_rot\n",
            "loading... category : healthy_potato\n",
            "Elapsed: 23.854158026999357 s\n",
            "loading... category : blackleg\n",
            "loading... category : common_scab\n",
            "loading... category : dry_rot\n",
            "loading... category : healthy_potato\n",
            "Elapsed: 17.520622689000447 s\n",
            "loading... category : blackleg\n",
            "loading... category : common_scab\n",
            "loading... category : dry_rot\n",
            "loading... category : healthy_potato\n",
            "Elapsed: 20.102282962999197 s\n",
            "loading... category : blackleg\n",
            "loading... category : common_scab\n",
            "loading... category : dry_rot\n",
            "loading... category : healthy_potato\n",
            "Elapsed: 25.12860983399969 s\n",
            "loading... category : blackleg\n",
            "loading... category : common_scab\n",
            "loading... category : dry_rot\n",
            "loading... category : healthy_potato\n",
            "Elapsed: 28.560599374999583 s\n"
          ]
        }
      ]
    },
    {
      "cell_type": "code",
      "source": [
        "print(\"Tiempo mínimo \", min(ex_time_max), 's')\n",
        "print(\"Tiempo máximo: \", max(ex_time_max), 's')\n",
        "print(\"Tiempo promedio: \", sum(ex_time_max)/len(ex_time_max), 's')\n",
        "print(\"Desviación estándar del tiempo: \", np.std(ex_time_max), 's')"
      ],
      "metadata": {
        "colab": {
          "base_uri": "https://localhost:8080/"
        },
        "id": "n53MpS6PLrDK",
        "outputId": "074465a4-1bfb-4404-f354-9be16ea8d886"
      },
      "execution_count": 63,
      "outputs": [
        {
          "output_type": "stream",
          "name": "stdout",
          "text": [
            "Tiempo mínimo  14.702288280000175 s\n",
            "Tiempo máximo:  28.560599374999583 s\n",
            "Tiempo promedio:  21.959628461133253 s\n",
            "Desviación estándar del tiempo:  4.654631737114712 s\n"
          ]
        }
      ]
    },
    {
      "cell_type": "code",
      "source": [
        "print(\"Tiempo mínimo mitad ejecución \", min(half_time_max), 's')\n",
        "print(\"Tiempo máximo mitad ejecución: \", max(half_time_max))\n",
        "print(\"Tiempo promedio mitad ejecución: \", sum(half_time_max)/len(half_time_max), 's')\n",
        "print(\"Desviación estándar del tiempo mitad ejecución: \", np.std(half_time_max), 's')"
      ],
      "metadata": {
        "colab": {
          "base_uri": "https://localhost:8080/"
        },
        "id": "rfTm0gVNLytk",
        "outputId": "147bb0ff-5996-4ec4-81ce-4ea11574d0b4"
      },
      "execution_count": 62,
      "outputs": [
        {
          "output_type": "stream",
          "name": "stdout",
          "text": [
            "Tiempo mínimo mitad ejecución  7.351144140000088 s\n",
            "Tiempo máximo mitad ejecución:  14.280299687499792\n",
            "Tiempo promedio mitad ejecución:  10.979814230566626 s\n",
            "Desviación estándar del tiempo mitad ejecución:  2.327315868557356 s\n"
          ]
        }
      ]
    },
    {
      "cell_type": "code",
      "source": [
        "y_max_pred"
      ],
      "metadata": {
        "colab": {
          "base_uri": "https://localhost:8080/"
        },
        "id": "3fZdf2dDMaZg",
        "outputId": "7f8e7dbd-6781-4fd9-bb2a-79e34252894f"
      },
      "execution_count": 46,
      "outputs": [
        {
          "output_type": "execute_result",
          "data": {
            "text/plain": [
              "array([3, 3, 3, 1, 1, 2, 2, 3, 0, 1, 0, 3, 0, 3, 3, 3, 0, 0, 3, 1, 2, 2,\n",
              "       1, 3, 1, 2, 0, 1, 2, 0, 0, 3, 3, 0, 1, 3, 0, 3, 3, 0, 3, 0, 1, 0,\n",
              "       0, 2, 3, 0, 0, 1, 3, 2, 0])"
            ]
          },
          "metadata": {},
          "execution_count": 46
        }
      ]
    },
    {
      "cell_type": "code",
      "source": [
        "cm_max = confusion_matrix(y_max_test, y_max_pred)\n",
        "fig, ax = plt.subplots(figsize=(5, 5))\n",
        "ax.matshow(cm_s, cmap=plt.cm.Greens, alpha=0.3)\n",
        "for i in range(cm_s.shape[0]):\n",
        "    for j in range(cm_max.shape[1]):\n",
        "        ax.text(x=j, y=i,s=cm[i, j], va='center', ha='center', size='xx-large')\n",
        "\n",
        "labels=['blackleg', 'common scab', 'dry rot', 'healthy']\n",
        "ax.set_xticklabels([''] + labels)\n",
        "ax.set_yticklabels([''] + labels)\n",
        "plt.xlabel('Predicciones', fontsize=18)\n",
        "plt.ylabel('Etiquetas verdaderas', fontsize=18)\n",
        "plt.title('Matriz de confusión', fontsize=18)\n",
        "plt.show()"
      ],
      "metadata": {
        "colab": {
          "base_uri": "https://localhost:8080/",
          "height": 507
        },
        "id": "73-uoU2HMdn6",
        "outputId": "ea3ba180-a0ee-4c88-e40f-16b24e857081"
      },
      "execution_count": 47,
      "outputs": [
        {
          "output_type": "display_data",
          "data": {
            "text/plain": [
              "<Figure size 500x500 with 1 Axes>"
            ],
            "image/png": "[encoded data removed]"
          },
          "metadata": {}
        }
      ]
    },
    {
      "cell_type": "code",
      "source": [
        "print('Accuracy  :', accuracy_score(y_max_test, y_max_pred)*100 ,\"%\")\n",
        "print('Precision :' , precision_score(y_max_test, y_max_pred, average='weighted')*100 ,\"%\")\n",
        "print('Recall    :', recall_score(y_max_test, y_max_pred, average='weighted')*100 ,\"%\")\n",
        "print('F1 Score  :',f1_score(y_max_test, y_max_pred, average='weighted')*100 ,\"%\")"
      ],
      "metadata": {
        "colab": {
          "base_uri": "https://localhost:8080/"
        },
        "id": "7t7FRQFnMuAY",
        "outputId": "b5da7d39-581d-4d6f-e351-d5af89dd06dc"
      },
      "execution_count": 54,
      "outputs": [
        {
          "output_type": "stream",
          "name": "stdout",
          "text": [
            "Accuracy  : 77.35849056603774 %\n",
            "Precision : 77.98834628190899 %\n",
            "Recall    : 77.35849056603774 %\n",
            "F1 Score  : 76.76910712235447 %\n"
          ]
        }
      ]
    },
    {
      "cell_type": "markdown",
      "source": [
        "## Clasificador Support Vector Machine para dataset filtro Mínimo\n",
        "La determinación del tiempo de procesamiento del clasificador SVM será realizada 15 veces, considerando desde la transformación de las imágenes a arrays hasta completar la predicción de las cuatro clases de papas. El tiempo del procesamiento del 50% de las imágenes será calculado dividiendo el tiempo total por dos."
      ],
      "metadata": {
        "id": "zIAMODw7OoXq"
      }
    },
    {
      "cell_type": "code",
      "source": [
        "ex_time_min = []\n",
        "half_time_min = []\n",
        "\n",
        "j = 1\n",
        "\n",
        "while j < 16:\n",
        "    start = time.perf_counter()\n",
        "\n",
        "    flat_data_arr_min=[]\n",
        "    target_arr_min=[]\n",
        "    datadir_min='/content/drive/MyDrive/potato/data_min'\n",
        "\n",
        "    for i in Categoría:\n",
        "        print(f'loading... category : {i}')\n",
        "        path=os.path.join(datadir_s,i)\n",
        "        for img in os.listdir(path):\n",
        "            img_array=imread(os.path.join(path,img))\n",
        "            img_resized=resize(img_array,(200,200,3))\n",
        "            flat_data_arr_min.append(img_resized.flatten())\n",
        "            target_arr_min.append(Categoría.index(i))\n",
        "    flat_data_min=np.array(flat_data_arr_min)\n",
        "    target_min=np.array(target_arr_min)\n",
        "    df_papa_min=pd.DataFrame(flat_data_min)\n",
        "    df_papa_min['Categoría']=target_min\n",
        "    df_papa_min\n",
        "\n",
        "    x_min=df_papa_min.iloc[:,:-1]\n",
        "    y_min=df_papa_min.iloc[:,-1]\n",
        "    x_min_train,x_min_test,y_min_train,y_min_test=train_test_split(x_min,y_min,test_size=0.20,random_state=42)\n",
        "\n",
        "    classifier_min = SVC(kernel = 'rbf', random_state = 0)\n",
        "    classifier_min.fit(x_min_train, y_min_train)\n",
        "\n",
        "    y_min_pred = classifier_min.predict(x_min_test)\n",
        "\n",
        "\n",
        "    end = time.perf_counter()\n",
        "    total = end - start\n",
        "    print(f\"Elapsed: {(total)} s\")\n",
        "    ex_time_min.append(total)\n",
        "    half_t = (total/2)\n",
        "    half_time_min.append(half_t)\n",
        "    j +=1"
      ],
      "metadata": {
        "colab": {
          "base_uri": "https://localhost:8080/"
        },
        "id": "W_2hgxE6Orvb",
        "outputId": "46647ae5-d7ed-4a1e-a15a-28c0b1777296"
      },
      "execution_count": 48,
      "outputs": [
        {
          "output_type": "stream",
          "name": "stdout",
          "text": [
            "loading... category : blackleg\n",
            "loading... category : common_scab\n",
            "loading... category : dry_rot\n",
            "loading... category : healthy_potato\n",
            "Elapsed: 28.949079502999666 s\n",
            "loading... category : blackleg\n",
            "loading... category : common_scab\n",
            "loading... category : dry_rot\n",
            "loading... category : healthy_potato\n",
            "Elapsed: 19.045412170999953 s\n",
            "loading... category : blackleg\n",
            "loading... category : common_scab\n",
            "loading... category : dry_rot\n",
            "loading... category : healthy_potato\n",
            "Elapsed: 14.714886349999688 s\n",
            "loading... category : blackleg\n",
            "loading... category : common_scab\n",
            "loading... category : dry_rot\n",
            "loading... category : healthy_potato\n",
            "Elapsed: 17.571942427000067 s\n",
            "loading... category : blackleg\n",
            "loading... category : common_scab\n",
            "loading... category : dry_rot\n",
            "loading... category : healthy_potato\n",
            "Elapsed: 26.253690068999276 s\n",
            "loading... category : blackleg\n",
            "loading... category : common_scab\n",
            "loading... category : dry_rot\n",
            "loading... category : healthy_potato\n",
            "Elapsed: 21.976480372999504 s\n",
            "loading... category : blackleg\n",
            "loading... category : common_scab\n",
            "loading... category : dry_rot\n",
            "loading... category : healthy_potato\n",
            "Elapsed: 17.29118371000004 s\n",
            "loading... category : blackleg\n",
            "loading... category : common_scab\n",
            "loading... category : dry_rot\n",
            "loading... category : healthy_potato\n",
            "Elapsed: 16.858741774999544 s\n",
            "loading... category : blackleg\n",
            "loading... category : common_scab\n",
            "loading... category : dry_rot\n",
            "loading... category : healthy_potato\n",
            "Elapsed: 14.917857186999754 s\n",
            "loading... category : blackleg\n",
            "loading... category : common_scab\n",
            "loading... category : dry_rot\n",
            "loading... category : healthy_potato\n",
            "Elapsed: 14.896012464000705 s\n",
            "loading... category : blackleg\n",
            "loading... category : common_scab\n",
            "loading... category : dry_rot\n",
            "loading... category : healthy_potato\n",
            "Elapsed: 21.287439077000272 s\n",
            "loading... category : blackleg\n",
            "loading... category : common_scab\n",
            "loading... category : dry_rot\n",
            "loading... category : healthy_potato\n",
            "Elapsed: 17.493841903999964 s\n",
            "loading... category : blackleg\n",
            "loading... category : common_scab\n",
            "loading... category : dry_rot\n",
            "loading... category : healthy_potato\n",
            "Elapsed: 26.47797725500004 s\n",
            "loading... category : blackleg\n",
            "loading... category : common_scab\n",
            "loading... category : dry_rot\n",
            "loading... category : healthy_potato\n",
            "Elapsed: 23.292919663000248 s\n",
            "loading... category : blackleg\n",
            "loading... category : common_scab\n",
            "loading... category : dry_rot\n",
            "loading... category : healthy_potato\n",
            "Elapsed: 21.868980266999642 s\n"
          ]
        }
      ]
    },
    {
      "cell_type": "code",
      "source": [
        "print(\"Tiempo mínimo \", min(ex_time_min), 's')\n",
        "print(\"Tiempo máximo: \", max(ex_time_min), 's')\n",
        "print(\"Tiempo promedio: \", sum(ex_time_min)/len(ex_time_min), 's')\n",
        "print(\"Desviación estándar del tiempo: \", np.std(ex_time_min), 's')"
      ],
      "metadata": {
        "colab": {
          "base_uri": "https://localhost:8080/"
        },
        "id": "EYW4Au0CPosb",
        "outputId": "0c1cd604-241a-4fd5-8c6b-ffa7903784b0"
      },
      "execution_count": 61,
      "outputs": [
        {
          "output_type": "stream",
          "name": "stdout",
          "text": [
            "Tiempo mínimo  14.714886349999688 s\n",
            "Tiempo máximo:  28.949079502999666 s\n",
            "Tiempo promedio:  20.19309627966656 s\n",
            "Desviación estándar del tiempo:  4.401544810635238 s\n"
          ]
        }
      ]
    },
    {
      "cell_type": "code",
      "source": [
        "print(\"Tiempo mínimo mitad ejecución \", min(half_time_min), 's')\n",
        "print(\"Tiempo máximo mitad ejecución: \", max(half_time_min), 's')\n",
        "print(\"Tiempo promedio mitad ejecución: \", sum(half_time_min)/len(half_time_min), 's')\n",
        "print(\"Desviación estándar del tiempo mitad ejecución: \", np.std(half_time_min), 's')"
      ],
      "metadata": {
        "colab": {
          "base_uri": "https://localhost:8080/"
        },
        "id": "-XUlUzH4PxeC",
        "outputId": "3e870e3c-2bc5-444c-cc46-e96de03595bc"
      },
      "execution_count": 60,
      "outputs": [
        {
          "output_type": "stream",
          "name": "stdout",
          "text": [
            "Tiempo mínimo mitad ejecución  7.357443174999844 s\n",
            "Tiempo máximo mitad ejecución:  14.474539751499833 s\n",
            "Tiempo promedio mitad ejecución:  10.09654813983328 s\n",
            "Desviación estándar del tiempo mitad ejecución:  2.200772405317619 s\n"
          ]
        }
      ]
    },
    {
      "cell_type": "code",
      "source": [
        "y_min_pred"
      ],
      "metadata": {
        "colab": {
          "base_uri": "https://localhost:8080/"
        },
        "id": "Oqk-mop5P8e2",
        "outputId": "0e241f3e-d38e-490d-9f47-37818286ee28"
      },
      "execution_count": 51,
      "outputs": [
        {
          "output_type": "execute_result",
          "data": {
            "text/plain": [
              "array([3, 3, 3, 1, 1, 2, 2, 3, 0, 1, 0, 3, 0, 3, 3, 3, 0, 0, 3, 1, 2, 2,\n",
              "       1, 3, 1, 2, 0, 1, 2, 0, 0, 3, 3, 0, 1, 3, 0, 3, 3, 0, 3, 0, 1, 0,\n",
              "       0, 2, 3, 0, 0, 1, 3, 2, 0])"
            ]
          },
          "metadata": {},
          "execution_count": 51
        }
      ]
    },
    {
      "cell_type": "code",
      "source": [
        "cm_min = confusion_matrix(y_min_test, y_min_pred)\n",
        "fig, ax = plt.subplots(figsize=(5, 5))\n",
        "ax.matshow(cm_s, cmap=plt.cm.Greens, alpha=0.3)\n",
        "for i in range(cm_s.shape[0]):\n",
        "    for j in range(cm_min.shape[1]):\n",
        "        ax.text(x=j, y=i,s=cm[i, j], va='center', ha='center', size='xx-large')\n",
        "\n",
        "labels=['blackleg', 'common scab', 'dry rot', 'healthy']\n",
        "ax.set_xticklabels([''] + labels)\n",
        "ax.set_yticklabels([''] + labels)\n",
        "plt.xlabel('Predicciones', fontsize=18)\n",
        "plt.ylabel('Etiquetas verdaderas', fontsize=18)\n",
        "plt.title('Matriz de confusión', fontsize=18)\n",
        "plt.show()"
      ],
      "metadata": {
        "colab": {
          "base_uri": "https://localhost:8080/",
          "height": 507
        },
        "id": "9voXyl6mQB7T",
        "outputId": "5341d025-85f7-4049-c232-b05e8eb689df"
      },
      "execution_count": 52,
      "outputs": [
        {
          "output_type": "display_data",
          "data": {
            "text/plain": [
              "<Figure size 500x500 with 1 Axes>"
            ],
            "image/png": "[encoded data removed]"
          },
          "metadata": {}
        }
      ]
    },
    {
      "cell_type": "code",
      "source": [
        "print('Accuracy  :', accuracy_score(y_min_test, y_min_pred)*100 ,\"%\")\n",
        "print('Precision :' , precision_score(y_min_test, y_min_pred, average='weighted')*100 ,\"%\")\n",
        "print('Recall    :', recall_score(y_min_test, y_min_pred, average='weighted')*100 ,\"%\")\n",
        "print('F1 Score  :',f1_score(y_min_test, y_min_pred, average='weighted')*100 ,\"%\")"
      ],
      "metadata": {
        "colab": {
          "base_uri": "https://localhost:8080/"
        },
        "id": "2WrTIB59QOCX",
        "outputId": "caf63078-ab93-4dfc-b1c3-e501eb971a5a"
      },
      "execution_count": 53,
      "outputs": [
        {
          "output_type": "stream",
          "name": "stdout",
          "text": [
            "Accuracy  : 77.35849056603774 %\n",
            "Precision : 77.98834628190899 %\n",
            "Recall    : 77.35849056603774 %\n",
            "F1 Score  : 76.76910712235447 %\n"
          ]
        }
      ]
    },
    {
      "cell_type": "markdown",
      "source": [
        "## Análisis de resultados del procesamiento de la muestra del dataset de papas"
      ],
      "metadata": {
        "id": "Li2DVQY8Qa42"
      }
    },
    {
      "cell_type": "markdown",
      "source": [
        "| **Modelo**      | **Accuracy**                                                                                  | **Precision** | **Recall** | **F1 Score**|\n",
        "|------------------|---------------------------------------------------------------------------------------------------|-----------------------------|-------------------------|------------------------------------------------------------------------------------------------------|\n",
        "| **Modelo 1 (SVM sin filtro)** |69.8 %| 70.3 %| 69.8 %| 69.2 %|\n",
        "| **Modelo 2 (SVM filtro Gaussiano)** | 60.4 % | 62.7 %| 60.4 %| 61.4%|\n",
        "| **Modelo 3 (SVM filtro Sobel)** | 77.4 % | 77.99 %| 77.4 %| 76.8 % |\n",
        "| **Modelo 4 (SVM filtro Máximo)** |77.4 %  | 77.99 %| 77.4 %|76.8 %|\n",
        "| **Modelo 5 (SVM filtro Mínimo)** |77.4 % | 77.99 %| 77.4 %|76.8 %|"
      ],
      "metadata": {
        "id": "18aeucxqT9KY"
      }
    },
    {
      "cell_type": "markdown",
      "source": [
        "| **Modelo**      | **t máx (s)**                                                                                  | **t min (s)** | **t prom. (s)** | **std. t (s)**|\n",
        "|------------------|---------------------------------------------------------------------------------------------------|-----------------------------|-------------------------|------------------------------------------------------------------------------------------------------|\n",
        "| **Modelo 1 (SVM sin filtro)** |18.08| 93.23| 41.19| 18.42|\n",
        "| **Modelo 2 (SVM filtro Gaussiano)** | 15.90| 118.77| 29.23| 24.44|\n",
        "| **Modelo 3 (SVM filtro Sobel)** | 17.00| 112.54|41.19| 22.99 |\n",
        "| **Modelo 4 (SVM filtro Máximo)** |14.70| 28.56| 21.95|4.65|\n",
        "| **Modelo 5 (SVM filtro Mínimo)** |14.71|28.94|20.19|4.40|"
      ],
      "metadata": {
        "id": "5KFXH8CWX-5D"
      }
    },
    {
      "cell_type": "markdown",
      "source": [
        "| **Modelo**      | **t/2 máx (s)**                                                                                  | **t/2 min (s)** | **t/2 prom. (s)** | **std. t/2 (s)**|\n",
        "|------------------|---------------------------------------------------------------------------------------------------|-----------------------------|-------------------------|------------------------------------------------------------------------------------------------------|\n",
        "| **Modelo 1 (SVM sin filtro)** |9.04| 46.62| 20.60| 9.21|\n",
        "| **Modelo 2 (SVM filtro Gaussiano)** | 7.95| 59.38|14.62|12.22|\n",
        "| **Modelo 3 (SVM filtro Sobel)** |8.50|56.27|13.91|11.50|\n",
        "| **Modelo 4 (SVM filtro Máximo)** |7.35|14.28| 10.98|2.33|\n",
        "| **Modelo 5 (SVM filtro Mínimo)** |7.36| 14.47|10.10|2.20|"
      ],
      "metadata": {
        "id": "bCay3ajpYiZa"
      }
    },
    {
      "cell_type": "markdown",
      "source": [
        "# Conclusiones"
      ],
      "metadata": {
        "id": "BuBJxxRYhUlc"
      }
    }
  ],
  "metadata": {
    "colab": {
      "provenance": [],
      "include_colab_link": true
    },
    "kernelspec": {
      "display_name": "Python 3 (ipykernel)",
      "language": "python",
      "name": "python3"
    },
    "language_info": {
      "codemirror_mode": {
        "name": "ipython",
        "version": 3
      },
      "file_extension": ".py",
      "mimetype": "text/x-python",
      "name": "python",
      "nbconvert_exporter": "python",
      "pygments_lexer": "ipython3",
      "version": "3.9.16"
    }
  },
  "nbformat": 4,
  "nbformat_minor": 0
}