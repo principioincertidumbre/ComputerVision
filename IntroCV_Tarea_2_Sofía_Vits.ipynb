{
  "cells": [
    {
      "cell_type": "markdown",
      "metadata": {
        "id": "view-in-github",
        "colab_type": "text"
      },
      "source": [
        "<a href=\"https://colab.research.google.com/github/principioincertidumbre/ComputerVision/blob/main/IntroCV_Tarea_2_Sof%C3%ADa_Vits.ipynb\" target=\"_parent\"><img src=\"https://colab.research.google.com/assets/colab-badge.svg\" alt=\"Open In Colab\"/></a>"
      ]
    },
    {
      "cell_type": "markdown",
      "metadata": {
        "id": "b34oxVubq3Fa"
      },
      "source": [
        "<center>\n",
        "    <h1>Introducción a la Visión Computacional</h1>\n",
        "    <h1>Tarea 2</h1>\n",
        "</center>\n",
        "\n",
        "### Magíster en Data Science\n",
        "### U. del Desarrollo\n",
        "\n",
        "-----------------------\n",
        "<div align=\"right\">\n",
        "\n",
        "Estudiante: Sofía Vits\n",
        "\n",
        "Profesor: Takeshi Asahi\n",
        "\n",
        "Fecha de Entrega: Lunes 5, Mayo 20245.\n",
        "</div>"
      ]
    },
    {
      "cell_type": "markdown",
      "metadata": {
        "id": "lvyTwdxEq3Fl"
      },
      "source": [
        "## Instrucciones\n",
        "\n",
        "1. Diseñar un flujo de procesamiento a nivel abstracto: adquisición de imágenes, pre-procesamiento, procesamiento de imágenes, cálculo de la medición, almacenamiento.\n",
        "\n",
        "2. Con la base de datos seleccionada, implementar un sistema de reconocimiento y/o procesamiento en el cual se realice una medida o inferencia sobre imagen. Puede ser la detección de un objeto, medición de distancias entre píxeles de alguna característica, medición del tamaño de algún objeto (en cantidad de píxeles) clasificación de la imagen, entre otros.\n",
        "\n",
        "3. Para procesar el conjunto completo de imágenes, medir los tiempos de ejecución del proceso completo. Realizar la medición para el 50% y el 100% de la imágenes varias veces, de manera de obtener algunas figuras estadísticas: tiempo máximo, tiempo mínimo, tiempo medio, desviación estándar del tiempo.\n",
        "\n",
        "4. Hacer resumen de los resultados del procesamiento. Para ello debe decidir una métrica para indicar si el procesamiento es satisfactorio. Para esto último algunas veces es necesario hacer la evaluación en forma manual, por lo tanto, si fuera este el caso, seleccionar un sub-conjunto de las imágenes (por ejemplo, unas 50) y comparar el desempeño del algoritmo en estas imágenes.\n",
        "\n",
        "## Formato de Entrega:\n",
        "1. Escribir un informe o entregar el notebook con comentarios y documentación, incluyendo el análisis (comentando) los resultados. Recordar las recomendaciones de la Tarea 1, de **no mostrar todas las imágenes procesadas en el notebook** sino que solamente un número reducido de ejemplos. Los comentarios son muy importantes.\n",
        "\n",
        "2. De percatarse que si encontrarn que el set de imágenes propuesto en la Tarea 1 no es el adecuado, se puede realizar un cambio en el dataset. Justificar el cambio. Este tipo de decisiones puede ocurrir en un proyecto. Muchas veces es necesario probar una variedad de datasets.\n",
        "\n",
        "3. No está permitido el uso de Herramientas de Inteligencia Artificial para generar el informe. El uso de Inteligencia Artificial Generativa solamente se remite a la sugerencia de código parcial, como copilot."
      ]
    },
    {
      "cell_type": "markdown",
      "source": [
        "# Introducción\n",
        "\n",
        "La papas es un tubérculo que fue domesticado en la región andina de Sudamérica. Junto con el trigo y arroz, es uno de los cultivos más importantes para la alimentación de la especie humana.\n",
        "\n",
        "Lamentablemente, existen enfermedades de las papas que generan pérdidas económicas y afectan la calidad del producto final. Por lo tanto, es importante detectar estas enfermedades a tiempo.\n",
        "\n",
        "El dataset \"Potato Diseases Datasets\" fue compilado a partir de diversas páginas web, siendo validado por el Instituto de Investigación Agrícola de Bangladesh (BARI).\n",
        "\n",
        "El dataset completo contiene 451 imágenes, siendo clasificadas como common scab (papas infectadas por bacteria Streptomyces scabies, contiene 62 imágenes), blackleg (papas infectadas por bacteria Pectobacterium atrosepticum, contiene 60 imágenes), dry rot (infección causada por hongos del género Fusarium, contiene 60 imágenes), pink rot (infección fúngica causada por Phytophthora erythroseptica, contiene 57 imágenes), black scurf (infección fúngica, contiene 58 imágenes), papas sanas (80 imágenes) y papas afectadas por otros tipos de infecciones (74 imágenes).\n",
        "\n",
        "Considerando las enfermedades más comunes de la papa en Chile, se considerarán las clases common scab, blackleg, dry rot y papas sanas para realizar una clasificación multiclase mediante el algoritmo Support Vector Machine (SVM). Esta muestra del dataset contiene 262 imágenes en total.\n",
        "\n",
        "\n",
        "Dataset utilizado:\n",
        "\n",
        "https://www.kaggle.com/datasets/mukaffimoin/potato-diseases-datasets/\n",
        "\n",
        "Fuente del dataset:\n",
        "\n",
        "F. T. J. Faria, M. Bin Moin, A. Al Wase, M. R. Sani, K. M. Hasib and M. S. Alam, \"Classification of Potato Disease with Digital Image Processing Technique: A Hybrid Deep Learning Framework,\" 2023 IEEE 13th Annual Computing and Communication Workshop and Conference (CCWC), Las Vegas, NV, USA, 2023, pp. 0820-0826, doi: 10.1109/CCWC57344.2023.10099162.\n",
        "\n",
        "Otras fuentes:\n",
        "\n",
        "Centro Internacional de la Papa. \"Datos y cifras de la papa\". Recuperado de: https://cipotato.org/es/potato/potato-facts-and-figures/\n",
        "\n",
        "Méndez, P., Gaete, N. \"Principales enfermedades que afectan al cultivo de la papa\", INIA Carillanca. Recuperado de: https://tizon.inia.cl/assets/boletines/inia%20carillanca%20-%20principales%20enfermedades%20que%20afectan%20el%20cultivo%20de%20la%20papa.pdf\n",
        "\n",
        "North Dakota State University. \"Common scab\". Recuperado de: https://www.ag.ndsu.edu/potatoextension/common-scab\n",
        "\n",
        "The Royal Horticultural Society. \"Potato blackleg\". Recuperado de: https://www.rhs.org.uk/disease/potato-blackleg\n",
        "\n",
        "Cornell University. \"Fusarium Dry Rot of Potato\". Recuperado de: https://www.vegetables.cornell.edu/pest-management/disease-factsheets/fusarium-dry-rot-of-potato/"
      ],
      "metadata": {
        "id": "ImiOBWhDhJln"
      }
    },
    {
      "cell_type": "markdown",
      "source": [
        "# Metodología\n",
        "\n",
        "1.- Cargar la muestra del dataset y ordenar las carpetas a utilizar para el algoritmo de clasificación SVM multiclase.\n",
        "\n",
        "2.- Implementar algoritmo de clasificación SVM multiclase, midiendo el tiempo mínimo, tiempo máximo, tiempo promedio y desviación estándard del tiempo de procesamiento.\n",
        "\n",
        "3.- Comparar los resultados mediante métricas para verificar qué tipo de preprocesamiento permite obtener los mejores resultados.\n"
      ],
      "metadata": {
        "id": "v7nqPVoThOb3"
      }
    },
    {
      "cell_type": "markdown",
      "source": [
        "# Desarrollo"
      ],
      "metadata": {
        "id": "Ulw-oP6OhRgg"
      }
    },
    {
      "cell_type": "code",
      "source": [
        "from PIL import Image\n",
        "from os.path import exists\n",
        "import os\n",
        "import numpy as np\n",
        "import matplotlib.pyplot as plt\n",
        "from sklearn import svm\n",
        "from skimage.transform import resize\n",
        "from skimage.io import imread\n",
        "from sklearn.model_selection import train_test_split\n",
        "from sklearn.metrics import classification_report,accuracy_score,confusion_matrix\n",
        "from sklearn.metrics import confusion_matrix\n",
        "from sklearn.metrics import accuracy_score,precision_score,recall_score,f1_score\n",
        "from sklearn.svm import SVC\n",
        "import pandas as pd\n",
        "import time"
      ],
      "metadata": {
        "id": "FwkZlKHFkJsL"
      },
      "execution_count": 1,
      "outputs": []
    },
    {
      "cell_type": "code",
      "source": [
        "from google.colab import drive\n",
        "drive.mount('/content/drive')"
      ],
      "metadata": {
        "colab": {
          "base_uri": "https://localhost:8080/"
        },
        "id": "mgl35HXXkpM5",
        "outputId": "596c43cd-d8f6-40be-d9f8-56ee95264bd2"
      },
      "execution_count": 2,
      "outputs": [
        {
          "output_type": "stream",
          "name": "stdout",
          "text": [
            "Drive already mounted at /content/drive; to attempt to forcibly remount, call drive.mount(\"/content/drive\", force_remount=True).\n"
          ]
        }
      ]
    },
    {
      "cell_type": "code",
      "source": [
        "#Abrir una imagen de cada carpeta que contiene imágenes de papas enfermas o sanas\n",
        "\n",
        "inPath1  = '/content/drive/MyDrive/potato/Common Scab proc'\n",
        "inPath2  = '/content/drive/MyDrive/potato/Blackleg proc'\n",
        "inPath3  = '/content/drive/MyDrive/potato/Dry Rot proc'\n",
        "inPath4 = '/content/drive/MyDrive/potato/Healthy Potatoes proc'\n",
        "inPath5 = '/content/drive/MyDrive/potato/Common Scab Gauss'\n",
        "inPath6 = '/content/drive/MyDrive/potato/Blackleg Gauss'\n",
        "inPath7 = '/content/drive/MyDrive/potato/Dry Rot Gauss'\n",
        "inPath8 = '/content/drive/MyDrive/potato/Healthy Potatoes Gauss'\n",
        "inPath9 = '/content/drive/MyDrive/potato/Common Scab Sobel'\n",
        "inPath10 = '/content/drive/MyDrive/potato/Blackleg Sobel'\n",
        "inPath11 = '/content/drive/MyDrive/potato/Dry Rot Sobel'\n",
        "inPath12 = '/content/drive/MyDrive/potato/Healthy Potatoes Sobel'\n",
        "\n",
        "# Define carpetas de salida, las cuales serán creadas posteriormente en este trabajo\n",
        "\n",
        "outPath1  = '/content/drive/MyDrive/potato/data/common_scab'\n",
        "outPath2  = '/content/drive/MyDrive/potato/data/blackleg'\n",
        "outPath3  = '/content/drive/MyDrive/potato/data/dry_rot'\n",
        "outPath4 = '/content/drive/MyDrive/potato/data/healthy_potato'\n",
        "outPath5 = '/content/drive/MyDrive/potato/data_g/common_scab'\n",
        "outPath6 = '/content/drive/MyDrive/potato/data_g/blackleg'\n",
        "outPath7 = '/content/drive/MyDrive/potato/data_g/dry_rot'\n",
        "outPath8 = '/content/drive/MyDrive/potato/data_g/healthy_potato'\n",
        "outPath9 = '/content/drive/MyDrive/potato/data_s/common_scab'\n",
        "outPath10 = '/content/drive/MyDrive/potato/data_s/blackleg'\n",
        "outPath11 = '/content/drive/MyDrive/potato/data_s/dry_rot'\n",
        "outPath12 = '/content/drive/MyDrive/potato/data_s/healthy_potato'"
      ],
      "metadata": {
        "id": "6yKGrWDNlA0y"
      },
      "execution_count": 3,
      "outputs": []
    },
    {
      "cell_type": "code",
      "source": [
        "# Copia archivos\n",
        "\n",
        "import glob\n",
        "\n",
        "# Carpeta Common Scab\n",
        "path = outPath1 #carpeta para guardar imágenes\n",
        "# crea la carpeta de salida si no existe\n",
        "if not os.path.exists(path):\n",
        "    os.makedirs(path)\n",
        "\n",
        "# bucle para copiar imágenes\n",
        "\n",
        "for filename in glob.glob('/content/drive/MyDrive/potato/Common Scab proc/*.jpg'): # carpeta de origen\n",
        "    img = Image.open(filename)\n",
        "    # guarda las imágenes en la carpeta de salida\n",
        "    img.save('{}{}{}'.format(path,'/',os.path.split(filename)[1]))\n",
        "\n",
        "\n",
        "#Carpeta Blackleg\n",
        "path2 = outPath2\n",
        "\n",
        "if not os.path.exists(path2):\n",
        "    os.makedirs(path2)\n",
        "\n",
        "\n",
        "for filename in glob.glob('/content/drive/MyDrive/potato/Blackleg proc/*.jpg'):\n",
        "    img = Image.open(filename)\n",
        "    img.save('{}{}{}'.format(path2,'/',os.path.split(filename)[1]))\n",
        "\n",
        "# Carpeta Dry Rot\n",
        "\n",
        "path3 = outPath3\n",
        "\n",
        "if not os.path.exists(path3):\n",
        "    os.makedirs(path3)\n",
        "\n",
        "\n",
        "for filename in glob.glob('/content/drive/MyDrive/potato/Dry Rot proc/*.jpg'):\n",
        "    img = Image.open(filename)\n",
        "    img.save('{}{}{}'.format(path3,'/',os.path.split(filename)[1]))\n",
        "\n",
        "# Carpeta Healthy Potatoes\n",
        "\n",
        "path4 = outPath4\n",
        "\n",
        "if not os.path.exists(path4):\n",
        "    os.makedirs(path4)\n",
        "\n",
        "for filename in glob.glob('/content/drive/MyDrive/potato/Healthy Potatoes proc/*.jpg'):\n",
        "    img = Image.open(filename)\n",
        "    img.save('{}{}{}'.format(path4,'/',os.path.split(filename)[1]))"
      ],
      "metadata": {
        "id": "aa81ILX6mCki"
      },
      "execution_count": 4,
      "outputs": []
    },
    {
      "cell_type": "code",
      "source": [
        "# Copia archivos filtro Gaussiano\n",
        "\n",
        "import glob\n",
        "\n",
        "# Carpeta Common Scab\n",
        "path5 = outPath5 #carpeta para guardar imágenes\n",
        "# crea la carpeta de salida si no existe\n",
        "if not os.path.exists(path5):\n",
        "    os.makedirs(path5)\n",
        "\n",
        "# bucle para copiar imágenes\n",
        "\n",
        "for filename in glob.glob('/content/drive/MyDrive/potato/Common Scab Gauss/*.jpg'): # carpeta de origen\n",
        "    img = Image.open(filename)\n",
        "    # guarda las imágenes en la carpeta de salida\n",
        "    img.save('{}{}{}'.format(path5,'/',os.path.split(filename)[1]))\n",
        "\n",
        "\n",
        "#Carpeta Blackleg\n",
        "path6 = outPath6\n",
        "\n",
        "if not os.path.exists(path6):\n",
        "    os.makedirs(path6)\n",
        "\n",
        "\n",
        "for filename in glob.glob('/content/drive/MyDrive/potato/Blackleg Gauss/*.jpg'):\n",
        "    img = Image.open(filename)\n",
        "    img.save('{}{}{}'.format(path6,'/',os.path.split(filename)[1]))\n",
        "\n",
        "# Carpeta Dry Rot\n",
        "\n",
        "path7 = outPath7\n",
        "\n",
        "if not os.path.exists(path7):\n",
        "    os.makedirs(path7)\n",
        "\n",
        "\n",
        "for filename in glob.glob('/content/drive/MyDrive/potato/Dry Rot Gauss/*.jpg'):\n",
        "    img = Image.open(filename)\n",
        "    img.save('{}{}{}'.format(path7,'/',os.path.split(filename)[1]))\n",
        "\n",
        "# Carpeta Healthy Potatoes\n",
        "\n",
        "path8 = outPath8\n",
        "\n",
        "if not os.path.exists(path8):\n",
        "    os.makedirs(path8)\n",
        "\n",
        "for filename in glob.glob('/content/drive/MyDrive/potato/Healthy Potatoes Gauss/*.jpg'):\n",
        "    img = Image.open(filename)\n",
        "    img.save('{}{}{}'.format(path8,'/',os.path.split(filename)[1]))"
      ],
      "metadata": {
        "id": "pl0RoiVw9RJP"
      },
      "execution_count": 5,
      "outputs": []
    },
    {
      "cell_type": "code",
      "source": [
        "# Copia archivos filtro Sobel\n",
        "\n",
        "import glob\n",
        "\n",
        "# Carpeta Common Scab\n",
        "path9 = outPath9 #carpeta para guardar imágenes\n",
        "# crea la carpeta de salida si no existe\n",
        "if not os.path.exists(path9):\n",
        "    os.makedirs(path9)\n",
        "\n",
        "# bucle para copiar imágenes\n",
        "\n",
        "for filename in glob.glob('/content/drive/MyDrive/potato/Common Scab Sobel/*.jpg'): # carpeta de origen\n",
        "    img = Image.open(filename)\n",
        "    # guarda las imágenes en la carpeta de salida\n",
        "    img.save('{}{}{}'.format(path9,'/',os.path.split(filename)[1]))\n",
        "\n",
        "\n",
        "#Carpeta Blackleg\n",
        "path10 = outPath10\n",
        "\n",
        "if not os.path.exists(path10):\n",
        "    os.makedirs(path10)\n",
        "\n",
        "\n",
        "for filename in glob.glob('/content/drive/MyDrive/potato/Blackleg Sobel/*.jpg'):\n",
        "    img = Image.open(filename)\n",
        "    img.save('{}{}{}'.format(path10,'/',os.path.split(filename)[1]))\n",
        "\n",
        "# Carpeta Dry Rot\n",
        "\n",
        "path11 = outPath11\n",
        "\n",
        "if not os.path.exists(path11):\n",
        "    os.makedirs(path11)\n",
        "\n",
        "\n",
        "for filename in glob.glob('/content/drive/MyDrive/potato/Dry Rot Gauss/*.jpg'):\n",
        "    img = Image.open(filename)\n",
        "    img.save('{}{}{}'.format(path11,'/',os.path.split(filename)[1]))\n",
        "\n",
        "# Carpeta Healthy Potatoes\n",
        "\n",
        "path12 = outPath12\n",
        "\n",
        "if not os.path.exists(path12):\n",
        "    os.makedirs(path12)\n",
        "\n",
        "for filename in glob.glob('/content/drive/MyDrive/potato/Healthy Potatoes Gauss/*.jpg'):\n",
        "    img = Image.open(filename)\n",
        "    img.save('{}{}{}'.format(path12,'/',os.path.split(filename)[1]))"
      ],
      "metadata": {
        "id": "rtQvM-U3-Ynx"
      },
      "execution_count": 6,
      "outputs": []
    },
    {
      "cell_type": "markdown",
      "source": [
        "## Clasificador Support Vector Machine para dataset sin filtrar"
      ],
      "metadata": {
        "id": "2feqhFCKGTYi"
      }
    },
    {
      "cell_type": "markdown",
      "source": [
        "La determinación del tiempo de procesamiento del clasificador SVM será realizada 15 veces, considerando desde la transformación de las imágenes a arrays hasta completar la predicción de las cuatro clases de papas. El tiempo del procesamiento del 50% de las imágenes será calculado dividiendo el tiempo total por dos."
      ],
      "metadata": {
        "id": "nKMJQfyibRBm"
      }
    },
    {
      "cell_type": "code",
      "source": [
        "Categories=['blackleg', 'common_scab', 'dry_rot', 'healthy_potato']"
      ],
      "metadata": {
        "id": "9CdKMWeWBugQ"
      },
      "execution_count": 7,
      "outputs": []
    },
    {
      "cell_type": "code",
      "source": [
        "ex_time_nf = []\n",
        "half_time_nf = []\n",
        "\n",
        "j = 1\n",
        "\n",
        "while j < 16:\n",
        "    start = time.perf_counter()\n",
        "\n",
        "    flat_data_arr=[]\n",
        "    target_arr = []\n",
        "    datadir ='/content/drive/MyDrive/potato/data'\n",
        "\n",
        "    for i in Categories:\n",
        "        print(f'loading... category : {i}')\n",
        "        path=os.path.join(datadir,i)\n",
        "        for img in os.listdir(path):\n",
        "            img_array=imread(os.path.join(path,img))\n",
        "            img_resized=resize(img_array,(200,200,3))\n",
        "            flat_data_arr.append(img_resized.flatten())\n",
        "            target_arr.append(Categories.index(i))\n",
        "    flat_data=np.array(flat_data_arr)\n",
        "    target=np.array(target_arr)\n",
        "    df_papa=pd.DataFrame(flat_data)\n",
        "    df_papa['Categoría']=target\n",
        "    df_papa\n",
        "\n",
        "    x=df_papa.iloc[:,:-1]\n",
        "    y=df_papa.iloc[:,-1]\n",
        "    x_train,x_test,y_train,y_test=train_test_split(x,y,test_size=0.20,random_state=42)\n",
        "\n",
        "    classifier = SVC(kernel = 'rbf', random_state = 0)\n",
        "    classifier.fit(x_train, y_train)\n",
        "\n",
        "    y_pred = classifier.predict(x_test)\n",
        "    y_pred\n",
        "\n",
        "    end = time.perf_counter()\n",
        "    total = end - start\n",
        "    print(f\"Elapsed: {(total)} s\")\n",
        "    ex_time_nf.append(total)\n",
        "    half_t = (total/2)\n",
        "    half_time_nf.append(half_t)\n",
        "    j +=1"
      ],
      "metadata": {
        "colab": {
          "base_uri": "https://localhost:8080/"
        },
        "id": "Ba-EyGQnZJ0h",
        "outputId": "a020840a-942d-449f-9b79-f29cc3e125c6"
      },
      "execution_count": 8,
      "outputs": [
        {
          "output_type": "stream",
          "name": "stdout",
          "text": [
            "loading... category : blackleg\n",
            "loading... category : common_scab\n",
            "loading... category : dry_rot\n",
            "loading... category : healthy_potato\n",
            "Elapsed: 15.976790605000133 s\n",
            "loading... category : blackleg\n",
            "loading... category : common_scab\n",
            "loading... category : dry_rot\n",
            "loading... category : healthy_potato\n",
            "Elapsed: 20.004414101000293 s\n",
            "loading... category : blackleg\n",
            "loading... category : common_scab\n",
            "loading... category : dry_rot\n",
            "loading... category : healthy_potato\n",
            "Elapsed: 18.95616762499958 s\n",
            "loading... category : blackleg\n",
            "loading... category : common_scab\n",
            "loading... category : dry_rot\n",
            "loading... category : healthy_potato\n",
            "Elapsed: 17.354633614000704 s\n",
            "loading... category : blackleg\n",
            "loading... category : common_scab\n",
            "loading... category : dry_rot\n",
            "loading... category : healthy_potato\n",
            "Elapsed: 15.897052989999793 s\n",
            "loading... category : blackleg\n",
            "loading... category : common_scab\n",
            "loading... category : dry_rot\n",
            "loading... category : healthy_potato\n",
            "Elapsed: 15.562906018998547 s\n",
            "loading... category : blackleg\n",
            "loading... category : common_scab\n",
            "loading... category : dry_rot\n",
            "loading... category : healthy_potato\n",
            "Elapsed: 16.406189166998956 s\n",
            "loading... category : blackleg\n",
            "loading... category : common_scab\n",
            "loading... category : dry_rot\n",
            "loading... category : healthy_potato\n",
            "Elapsed: 18.587316082001053 s\n",
            "loading... category : blackleg\n",
            "loading... category : common_scab\n",
            "loading... category : dry_rot\n",
            "loading... category : healthy_potato\n",
            "Elapsed: 17.865956403999007 s\n",
            "loading... category : blackleg\n",
            "loading... category : common_scab\n",
            "loading... category : dry_rot\n",
            "loading... category : healthy_potato\n",
            "Elapsed: 17.596551021999403 s\n",
            "loading... category : blackleg\n",
            "loading... category : common_scab\n",
            "loading... category : dry_rot\n",
            "loading... category : healthy_potato\n",
            "Elapsed: 15.093493589998616 s\n",
            "loading... category : blackleg\n",
            "loading... category : common_scab\n",
            "loading... category : dry_rot\n",
            "loading... category : healthy_potato\n",
            "Elapsed: 14.933254507999663 s\n",
            "loading... category : blackleg\n",
            "loading... category : common_scab\n",
            "loading... category : dry_rot\n",
            "loading... category : healthy_potato\n",
            "Elapsed: 14.978720050999982 s\n",
            "loading... category : blackleg\n",
            "loading... category : common_scab\n",
            "loading... category : dry_rot\n",
            "loading... category : healthy_potato\n",
            "Elapsed: 14.710609089001082 s\n",
            "loading... category : blackleg\n",
            "loading... category : common_scab\n",
            "loading... category : dry_rot\n",
            "loading... category : healthy_potato\n",
            "Elapsed: 18.144325527000547 s\n"
          ]
        }
      ]
    },
    {
      "cell_type": "code",
      "source": [
        "print(\"Tiempo mínimo \", min(ex_time_nf))\n",
        "print(\"Tiempo máximo: \", max(ex_time_nf))\n",
        "print(\"Tiempo promedio: \", sum(ex_time_nf)/len(ex_time_nf))\n",
        "print(\"Desviación estándar del tiempo: \", np.std(ex_time_nf))"
      ],
      "metadata": {
        "colab": {
          "base_uri": "https://localhost:8080/"
        },
        "id": "xuQ1Vgt4B3n6",
        "outputId": "2a36e647-add6-42c5-ed76-3300637444d2"
      },
      "execution_count": 9,
      "outputs": [
        {
          "output_type": "stream",
          "name": "stdout",
          "text": [
            "Tiempo mínimo  14.710609089001082\n",
            "Tiempo máximo:  20.004414101000293\n",
            "Tiempo promedio:  16.804558692933156\n",
            "Desviación estándar del tiempo:  1.6177163977970772\n"
          ]
        }
      ]
    },
    {
      "cell_type": "code",
      "source": [
        "print(\"Tiempo mínimo mitad ejecución \", min(half_time_nf))\n",
        "print(\"Tiempo máximo mitad ejecución: \", max(half_time_nf))\n",
        "print(\"Tiempo promedio mitad ejecución: \", sum(half_time_nf)/len(half_time_nf))\n",
        "print(\"Desviación estándar del tiempo mitad ejecución: \", np.std(half_time_nf))"
      ],
      "metadata": {
        "colab": {
          "base_uri": "https://localhost:8080/"
        },
        "id": "6niwd9SMCBkM",
        "outputId": "54eb2cc6-b243-4b9c-930c-0c78eb15b5f8"
      },
      "execution_count": 10,
      "outputs": [
        {
          "output_type": "stream",
          "name": "stdout",
          "text": [
            "Tiempo mínimo mitad ejecución  7.355304544500541\n",
            "Tiempo máximo mitad ejecución:  10.002207050500147\n",
            "Tiempo promedio mitad ejecución:  8.402279346466578\n",
            "Desviación estándar del tiempo mitad ejecución:  0.8088581988985386\n"
          ]
        }
      ]
    },
    {
      "cell_type": "code",
      "source": [
        "cm = confusion_matrix(y_test, y_pred)\n",
        "fig, ax = plt.subplots(figsize=(5, 5))\n",
        "ax.matshow(cm, cmap=plt.cm.Oranges, alpha=0.3)\n",
        "for i in range(cm.shape[0]):\n",
        "    for j in range(cm.shape[1]):\n",
        "        ax.text(x=j, y=i,s=cm[i, j], va='center', ha='center', size='xx-large')\n",
        "\n",
        "plt.xlabel('Predicciones', fontsize=18)\n",
        "plt.ylabel('Reales', fontsize=18)\n",
        "plt.title('Matriz de Confusión', fontsize=18)\n",
        "plt.show()"
      ],
      "metadata": {
        "colab": {
          "base_uri": "https://localhost:8080/",
          "height": 507
        },
        "id": "8BjEaOuxDlwO",
        "outputId": "924e5c43-825b-4eb4-fd80-dda30d1e6da3"
      },
      "execution_count": 11,
      "outputs": [
        {
          "output_type": "display_data",
          "data": {
            "text/plain": [
              "<Figure size 500x500 with 1 Axes>"
            ],
            "image/png": "[encoded data removed]"
          },
          "metadata": {}
        }
      ]
    },
    {
      "cell_type": "code",
      "source": [
        "print('Accuracy  :', accuracy_score(y_test, y_pred)*100 ,\"%\")\n",
        "print('Precision :' , precision_score(y_test, y_pred, average='weighted')*100 ,\"%\")\n",
        "print('Recall    :', recall_score(y_test, y_pred, average='weighted')*100 ,\"%\")\n",
        "print('F1 Score  :',f1_score(y_test, y_pred, average='weighted')*100 ,\"%\")"
      ],
      "metadata": {
        "colab": {
          "base_uri": "https://localhost:8080/"
        },
        "id": "AhJQDwOQEBUH",
        "outputId": "2fd93230-9e78-4e78-ed3f-7241e30e2808"
      },
      "execution_count": 12,
      "outputs": [
        {
          "output_type": "stream",
          "name": "stdout",
          "text": [
            "Accuracy  : 64.15094339622641 %\n",
            "Precision : 62.22130071186675 %\n",
            "Recall    : 64.15094339622641 %\n",
            "F1 Score  : 62.77845880626417 %\n"
          ]
        }
      ]
    },
    {
      "cell_type": "markdown",
      "source": [
        "## Clasificador Support Vector Machine para dataset filtro Gaussiano"
      ],
      "metadata": {
        "id": "sByS491yGgli"
      }
    },
    {
      "cell_type": "markdown",
      "source": [
        "La determinación del tiempo de procesamiento del clasificador SVM será realizada 15 veces, considerando desde la transformación de las imágenes a arrays hasta completar la predicción de las cuatro clases de papas. El tiempo del procesamiento del 50% de las imágenes será calculado dividiendo el tiempo total por dos."
      ],
      "metadata": {
        "id": "HSxl5SAUYZjl"
      }
    },
    {
      "cell_type": "code",
      "source": [
        "ex_time = []\n",
        "half_time = []\n",
        "\n",
        "j = 1\n",
        "\n",
        "while j < 16:\n",
        "    start = time.perf_counter()\n",
        "\n",
        "    flat_data_arr_g=[]\n",
        "    target_arr_g=[]\n",
        "    datadir_g='/content/drive/MyDrive/potato/data_g'\n",
        "\n",
        "    for i in Categories:\n",
        "        print(f'loading... category : {i}')\n",
        "        path=os.path.join(datadir_g,i)\n",
        "        for img in os.listdir(path):\n",
        "            img_array=imread(os.path.join(path,img))\n",
        "            img_resized=resize(img_array,(200,200,3))\n",
        "            flat_data_arr_g.append(img_resized.flatten())\n",
        "            target_arr_g.append(Categories.index(i))\n",
        "    flat_data_g=np.array(flat_data_arr_g)\n",
        "    target_g=np.array(target_arr_g)\n",
        "    df_papa_g=pd.DataFrame(flat_data_g)\n",
        "    df_papa_g['Categoría']=target_g\n",
        "    df_papa_g\n",
        "\n",
        "    x_g=df_papa_g.iloc[:,:-1]\n",
        "    y_g=df_papa_g.iloc[:,-1]\n",
        "    x_g_train,x_g_test,y_g_train,y_g_test=train_test_split(x_g,y_g,test_size=0.20,random_state=42)\n",
        "\n",
        "    classifier_g = SVC(kernel = 'rbf', random_state = 0)\n",
        "    classifier_g.fit(x_g_train, y_g_train)\n",
        "\n",
        "    y_g_pred = classifier_g.predict(x_g_test)\n",
        "    y_g_pred\n",
        "\n",
        "    end = time.perf_counter()\n",
        "    total = end - start\n",
        "    print(f\"Elapsed: {(total)} s\")\n",
        "    ex_time.append(total)\n",
        "    half_t = (total/2)\n",
        "    half_time.append(half_t)\n",
        "    j +=1"
      ],
      "metadata": {
        "colab": {
          "base_uri": "https://localhost:8080/"
        },
        "id": "AXxUor70HgJH",
        "outputId": "8aafabd2-a28f-4af6-dfbb-b09fa7714886"
      },
      "execution_count": 13,
      "outputs": [
        {
          "output_type": "stream",
          "name": "stdout",
          "text": [
            "loading... category : blackleg\n",
            "loading... category : common_scab\n",
            "loading... category : dry_rot\n",
            "loading... category : healthy_potato\n",
            "Elapsed: 18.795987002000402 s\n",
            "loading... category : blackleg\n",
            "loading... category : common_scab\n",
            "loading... category : dry_rot\n",
            "loading... category : healthy_potato\n",
            "Elapsed: 18.557231599999795 s\n",
            "loading... category : blackleg\n",
            "loading... category : common_scab\n",
            "loading... category : dry_rot\n",
            "loading... category : healthy_potato\n",
            "Elapsed: 15.401465455999642 s\n",
            "loading... category : blackleg\n",
            "loading... category : common_scab\n",
            "loading... category : dry_rot\n",
            "loading... category : healthy_potato\n",
            "Elapsed: 15.156844384000578 s\n",
            "loading... category : blackleg\n",
            "loading... category : common_scab\n",
            "loading... category : dry_rot\n",
            "loading... category : healthy_potato\n",
            "Elapsed: 16.9958315749991 s\n",
            "loading... category : blackleg\n",
            "loading... category : common_scab\n",
            "loading... category : dry_rot\n",
            "loading... category : healthy_potato\n",
            "Elapsed: 18.494570856999417 s\n",
            "loading... category : blackleg\n",
            "loading... category : common_scab\n",
            "loading... category : dry_rot\n",
            "loading... category : healthy_potato\n",
            "Elapsed: 17.35709221900106 s\n",
            "loading... category : blackleg\n",
            "loading... category : common_scab\n",
            "loading... category : dry_rot\n",
            "loading... category : healthy_potato\n",
            "Elapsed: 17.523268007000297 s\n",
            "loading... category : blackleg\n",
            "loading... category : common_scab\n",
            "loading... category : dry_rot\n",
            "loading... category : healthy_potato\n",
            "Elapsed: 15.055229466999663 s\n",
            "loading... category : blackleg\n",
            "loading... category : common_scab\n",
            "loading... category : dry_rot\n",
            "loading... category : healthy_potato\n",
            "Elapsed: 14.96114618700085 s\n",
            "loading... category : blackleg\n",
            "loading... category : common_scab\n",
            "loading... category : dry_rot\n",
            "loading... category : healthy_potato\n",
            "Elapsed: 15.70223489000091 s\n",
            "loading... category : blackleg\n",
            "loading... category : common_scab\n",
            "loading... category : dry_rot\n",
            "loading... category : healthy_potato\n",
            "Elapsed: 19.585599422000087 s\n",
            "loading... category : blackleg\n",
            "loading... category : common_scab\n",
            "loading... category : dry_rot\n",
            "loading... category : healthy_potato\n",
            "Elapsed: 17.533771550000893 s\n",
            "loading... category : blackleg\n",
            "loading... category : common_scab\n",
            "loading... category : dry_rot\n",
            "loading... category : healthy_potato\n",
            "Elapsed: 18.033705009000187 s\n",
            "loading... category : blackleg\n",
            "loading... category : common_scab\n",
            "loading... category : dry_rot\n",
            "loading... category : healthy_potato\n",
            "Elapsed: 14.932485653000185 s\n"
          ]
        }
      ]
    },
    {
      "cell_type": "code",
      "source": [
        "print(\"Tiempo mínimo \", min(ex_time))\n",
        "print(\"Tiempo máximo: \", max(ex_time))\n",
        "print(\"Tiempo promedio: \", sum(ex_time)/len(ex_time))\n",
        "print(\"Desviación estándar del tiempo: \", np.std(ex_time))"
      ],
      "metadata": {
        "colab": {
          "base_uri": "https://localhost:8080/"
        },
        "id": "jdBWjXnFW7dS",
        "outputId": "81348186-76f2-46bb-83f8-621beb1938b6"
      },
      "execution_count": 14,
      "outputs": [
        {
          "output_type": "stream",
          "name": "stdout",
          "text": [
            "Tiempo mínimo  14.932485653000185\n",
            "Tiempo máximo:  19.585599422000087\n",
            "Tiempo promedio:  16.939097551866872\n",
            "Desviación estándar del tiempo:  1.5517553840077194\n"
          ]
        }
      ]
    },
    {
      "cell_type": "code",
      "source": [
        "print(\"Tiempo mínimo mitad ejecución \", min(half_time))\n",
        "print(\"Tiempo máximo mitad ejecución: \", max(half_time))\n",
        "print(\"Tiempo promedio mitad ejecución: \", sum(half_time)/len(half_time))\n",
        "print(\"Desviación estándar del tiempo mitad ejecución: \", np.std(half_time))"
      ],
      "metadata": {
        "colab": {
          "base_uri": "https://localhost:8080/"
        },
        "id": "VbVovkU4Xq6p",
        "outputId": "643f94c8-480b-42e8-efc3-febd53bec09b"
      },
      "execution_count": 15,
      "outputs": [
        {
          "output_type": "stream",
          "name": "stdout",
          "text": [
            "Tiempo mínimo mitad ejecución  7.466242826500093\n",
            "Tiempo máximo mitad ejecución:  9.792799711000043\n",
            "Tiempo promedio mitad ejecución:  8.469548775933436\n",
            "Desviación estándar del tiempo mitad ejecución:  0.7758776920038597\n"
          ]
        }
      ]
    },
    {
      "cell_type": "code",
      "source": [
        "cm_g = confusion_matrix(y_g_test, y_g_pred)\n",
        "fig, ax = plt.subplots(figsize=(5, 5))\n",
        "ax.matshow(cm_g, cmap=plt.cm.Blues, alpha=0.3)\n",
        "for i in range(cm_g.shape[0]):\n",
        "    for j in range(cm_g.shape[1]):\n",
        "        ax.text(x=j, y=i,s=cm[i, j], va='center', ha='center', size='xx-large')\n",
        "\n",
        "plt.xlabel('Predicciones', fontsize=18)\n",
        "plt.ylabel('Reales', fontsize=18)\n",
        "plt.title('Matriz de confusión', fontsize=18)\n",
        "plt.show()"
      ],
      "metadata": {
        "colab": {
          "base_uri": "https://localhost:8080/",
          "height": 507
        },
        "id": "Pe-T00e7H9d9",
        "outputId": "bd3e3a89-2572-4b91-bd91-ae096652bc10"
      },
      "execution_count": 16,
      "outputs": [
        {
          "output_type": "display_data",
          "data": {
            "text/plain": [
              "<Figure size 500x500 with 1 Axes>"
            ],
            "image/png": "[encoded data removed]"
          },
          "metadata": {}
        }
      ]
    },
    {
      "cell_type": "code",
      "source": [
        "print('Accuracy  :', accuracy_score(y_g_test, y_g_pred)*100 ,\"%\")\n",
        "print('Precision :' , precision_score(y_g_test, y_g_pred, average='weighted')*100 ,\"%\")\n",
        "print('Recall    :', recall_score(y_g_test, y_g_pred, average='weighted')*100 ,\"%\")\n",
        "print('F1 Score  :',f1_score(y_g_test, y_g_pred, average='weighted')*100 ,\"%\")"
      ],
      "metadata": {
        "colab": {
          "base_uri": "https://localhost:8080/"
        },
        "id": "eNKnwnLyITkI",
        "outputId": "e2b0da3e-04e7-437c-a7d2-865b1d9033fe"
      },
      "execution_count": 17,
      "outputs": [
        {
          "output_type": "stream",
          "name": "stdout",
          "text": [
            "Accuracy  : 60.37735849056604 %\n",
            "Precision : 64.1745283018868 %\n",
            "Recall    : 60.37735849056604 %\n",
            "F1 Score  : 61.22518990443518 %\n"
          ]
        }
      ]
    },
    {
      "cell_type": "markdown",
      "source": [
        "## Clasificador Support Vector Machine para dataset filtro Sobel"
      ],
      "metadata": {
        "id": "z1DUG9G5Gjs-"
      }
    },
    {
      "cell_type": "markdown",
      "source": [
        "La determinación del tiempo de procesamiento del clasificador SVM será realizada 15 veces, considerando desde la transformación de las imágenes a arrays hasta completar la predicción de las cuatro clases de papas. El tiempo del procesamiento del 50% de las imágenes será calculado dividiendo el tiempo total por dos."
      ],
      "metadata": {
        "id": "KxX1W7_Lc4y_"
      }
    },
    {
      "cell_type": "code",
      "source": [
        "ex_time_s = []\n",
        "half_time_s = []\n",
        "\n",
        "j = 1\n",
        "\n",
        "while j < 16:\n",
        "    start = time.perf_counter()\n",
        "\n",
        "    flat_data_arr_s=[]\n",
        "    target_arr_s=[]\n",
        "    datadir_s='/content/drive/MyDrive/potato/data_s'\n",
        "\n",
        "    for i in Categories:\n",
        "        print(f'loading... category : {i}')\n",
        "        path=os.path.join(datadir_s,i)\n",
        "        for img in os.listdir(path):\n",
        "            img_array=imread(os.path.join(path,img))\n",
        "            img_resized=resize(img_array,(200,200,3))\n",
        "            flat_data_arr_s.append(img_resized.flatten())\n",
        "            target_arr_s.append(Categories.index(i))\n",
        "    flat_data_s=np.array(flat_data_arr_s)\n",
        "    target_s=np.array(target_arr_s)\n",
        "    df_papa_s=pd.DataFrame(flat_data_s)\n",
        "    df_papa_s['Categoría']=target_s\n",
        "    df_papa_s\n",
        "\n",
        "    x_s=df_papa_s.iloc[:,:-1]\n",
        "    y_s=df_papa_s.iloc[:,-1]\n",
        "    x_s_train,x_s_test,y_s_train,y_s_test=train_test_split(x_s,y_s,test_size=0.20,random_state=42)\n",
        "\n",
        "    classifier_s = SVC(kernel = 'rbf', random_state = 0)\n",
        "    classifier_s.fit(x_s_train, y_s_train)\n",
        "\n",
        "    y_s_pred = classifier_s.predict(x_s_test)\n",
        "    y_s_pred\n",
        "\n",
        "    end = time.perf_counter()\n",
        "    total = end - start\n",
        "    print(f\"Elapsed: {(total)} s\")\n",
        "    ex_time_s.append(total)\n",
        "    half_t = (total/2)\n",
        "    half_time_s.append(half_t)\n",
        "    j +=1"
      ],
      "metadata": {
        "colab": {
          "base_uri": "https://localhost:8080/"
        },
        "id": "oAMRE4FEbVd5",
        "outputId": "e88cc31c-b5c3-4ef7-d297-cdc4771a37a2"
      },
      "execution_count": 18,
      "outputs": [
        {
          "output_type": "stream",
          "name": "stdout",
          "text": [
            "loading... category : blackleg\n",
            "loading... category : common_scab\n",
            "loading... category : dry_rot\n",
            "loading... category : healthy_potato\n",
            "Elapsed: 15.435119089999716 s\n",
            "loading... category : blackleg\n",
            "loading... category : common_scab\n",
            "loading... category : dry_rot\n",
            "loading... category : healthy_potato\n",
            "Elapsed: 14.6049847459999 s\n",
            "loading... category : blackleg\n",
            "loading... category : common_scab\n",
            "loading... category : dry_rot\n",
            "loading... category : healthy_potato\n",
            "Elapsed: 17.643201818998932 s\n",
            "loading... category : blackleg\n",
            "loading... category : common_scab\n",
            "loading... category : dry_rot\n",
            "loading... category : healthy_potato\n",
            "Elapsed: 17.343934882001122 s\n",
            "loading... category : blackleg\n",
            "loading... category : common_scab\n",
            "loading... category : dry_rot\n",
            "loading... category : healthy_potato\n",
            "Elapsed: 17.472376585999882 s\n",
            "loading... category : blackleg\n",
            "loading... category : common_scab\n",
            "loading... category : dry_rot\n",
            "loading... category : healthy_potato\n",
            "Elapsed: 17.051667900999746 s\n",
            "loading... category : blackleg\n",
            "loading... category : common_scab\n",
            "loading... category : dry_rot\n",
            "loading... category : healthy_potato\n",
            "Elapsed: 26.46000651400027 s\n",
            "loading... category : blackleg\n",
            "loading... category : common_scab\n",
            "loading... category : dry_rot\n",
            "loading... category : healthy_potato\n",
            "Elapsed: 17.58489013899998 s\n",
            "loading... category : blackleg\n",
            "loading... category : common_scab\n",
            "loading... category : dry_rot\n",
            "loading... category : healthy_potato\n",
            "Elapsed: 16.00896523300071 s\n",
            "loading... category : blackleg\n",
            "loading... category : common_scab\n",
            "loading... category : dry_rot\n",
            "loading... category : healthy_potato\n",
            "Elapsed: 14.682067957999607 s\n",
            "loading... category : blackleg\n",
            "loading... category : common_scab\n",
            "loading... category : dry_rot\n",
            "loading... category : healthy_potato\n",
            "Elapsed: 14.487259653000365 s\n",
            "loading... category : blackleg\n",
            "loading... category : common_scab\n",
            "loading... category : dry_rot\n",
            "loading... category : healthy_potato\n",
            "Elapsed: 13.916994967999926 s\n",
            "loading... category : blackleg\n",
            "loading... category : common_scab\n",
            "loading... category : dry_rot\n",
            "loading... category : healthy_potato\n",
            "Elapsed: 14.479173047000586 s\n",
            "loading... category : blackleg\n",
            "loading... category : common_scab\n",
            "loading... category : dry_rot\n",
            "loading... category : healthy_potato\n",
            "Elapsed: 15.404303295999853 s\n",
            "loading... category : blackleg\n",
            "loading... category : common_scab\n",
            "loading... category : dry_rot\n",
            "loading... category : healthy_potato\n",
            "Elapsed: 14.135668540000552 s\n"
          ]
        }
      ]
    },
    {
      "cell_type": "code",
      "source": [
        "print(\"Tiempo mínimo \", min(ex_time_s))\n",
        "print(\"Tiempo máximo: \", max(ex_time_s))\n",
        "print(\"Tiempo promedio: \", sum(ex_time_nf)/len(ex_time_s))\n",
        "print(\"Desviación estándar del tiempo: \", np.std(ex_time_s))"
      ],
      "metadata": {
        "colab": {
          "base_uri": "https://localhost:8080/"
        },
        "id": "Jl_E6cErIp-r",
        "outputId": "51dabf0a-87bd-410d-828b-e9af4968a3ed"
      },
      "execution_count": 19,
      "outputs": [
        {
          "output_type": "stream",
          "name": "stdout",
          "text": [
            "Tiempo mínimo  13.916994967999926\n",
            "Tiempo máximo:  26.46000651400027\n",
            "Tiempo promedio:  16.804558692933156\n",
            "Desviación estándar del tiempo:  2.983003023659428\n"
          ]
        }
      ]
    },
    {
      "cell_type": "code",
      "source": [
        "print(\"Tiempo mínimo mitad ejecución \", min(half_time_s))\n",
        "print(\"Tiempo máximo mitad ejecución: \", max(half_time_s))\n",
        "print(\"Tiempo promedio mitad ejecución: \", sum(half_time_s)/len(half_time_s))\n",
        "print(\"Desviación estándar del tiempo mitad ejecución: \", np.std(half_time_s))"
      ],
      "metadata": {
        "colab": {
          "base_uri": "https://localhost:8080/"
        },
        "id": "v--rVzb3LATy",
        "outputId": "254d05a0-d712-4242-9f06-a37321fdcfe7"
      },
      "execution_count": 20,
      "outputs": [
        {
          "output_type": "stream",
          "name": "stdout",
          "text": [
            "Tiempo mínimo mitad ejecución  6.958497483999963\n",
            "Tiempo máximo mitad ejecución:  13.230003257000135\n",
            "Tiempo promedio mitad ejecución:  8.223687145733372\n",
            "Desviación estándar del tiempo mitad ejecución:  1.491501511829714\n"
          ]
        }
      ]
    },
    {
      "cell_type": "code",
      "source": [
        "cm_s = confusion_matrix(y_s_test, y_s_pred)\n",
        "fig, ax = plt.subplots(figsize=(5, 5))\n",
        "ax.matshow(cm_s, cmap=plt.cm.Greens, alpha=0.3)\n",
        "for i in range(cm_s.shape[0]):\n",
        "    for j in range(cm_s.shape[1]):\n",
        "        ax.text(x=j, y=i,s=cm[i, j], va='center', ha='center', size='xx-large')\n",
        "\n",
        "plt.xlabel('Predicciones', fontsize=18)\n",
        "plt.ylabel('Reales', fontsize=18)\n",
        "plt.title('Matriz de confusión', fontsize=18)\n",
        "plt.show()"
      ],
      "metadata": {
        "colab": {
          "base_uri": "https://localhost:8080/",
          "height": 507
        },
        "id": "FTxExk-kMEWm",
        "outputId": "9d8411fa-2b3d-4711-b053-41ee0221edf0"
      },
      "execution_count": 21,
      "outputs": [
        {
          "output_type": "display_data",
          "data": {
            "text/plain": [
              "<Figure size 500x500 with 1 Axes>"
            ],
            "image/png": "[encoded data removed]"
          },
          "metadata": {}
        }
      ]
    },
    {
      "cell_type": "code",
      "source": [
        "print('Accuracy  :', accuracy_score(y_s_test, y_s_pred)*100 ,\"%\")\n",
        "print('Precision :' , precision_score(y_s_test, y_s_pred, average='weighted')*100 ,\"%\")\n",
        "print('Recall    :', recall_score(y_s_test, y_s_pred, average='weighted')*100 ,\"%\")\n",
        "print('F1 Score  :',f1_score(y_s_test, y_s_pred, average='weighted')*100 ,\"%\")"
      ],
      "metadata": {
        "colab": {
          "base_uri": "https://localhost:8080/"
        },
        "id": "3ju0G4tWMSRE",
        "outputId": "49637148-7e61-405f-9de3-f427ffb7bbd1"
      },
      "execution_count": 22,
      "outputs": [
        {
          "output_type": "stream",
          "name": "stdout",
          "text": [
            "Accuracy  : 81.13207547169812 %\n",
            "Precision : 81.69811320754717 %\n",
            "Recall    : 81.13207547169812 %\n",
            "F1 Score  : 80.63791554357593 %\n"
          ]
        }
      ]
    },
    {
      "cell_type": "markdown",
      "source": [
        "# Conclusiones"
      ],
      "metadata": {
        "id": "BuBJxxRYhUlc"
      }
    }
  ],
  "metadata": {
    "colab": {
      "provenance": [],
      "include_colab_link": true
    },
    "kernelspec": {
      "display_name": "Python 3 (ipykernel)",
      "language": "python",
      "name": "python3"
    },
    "language_info": {
      "codemirror_mode": {
        "name": "ipython",
        "version": 3
      },
      "file_extension": ".py",
      "mimetype": "text/x-python",
      "name": "python",
      "nbconvert_exporter": "python",
      "pygments_lexer": "ipython3",
      "version": "3.9.16"
    }
  },
  "nbformat": 4,
  "nbformat_minor": 0
}